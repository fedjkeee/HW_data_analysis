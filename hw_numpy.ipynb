{
  "nbformat": 4,
  "nbformat_minor": 0,
  "metadata": {
    "kernelspec": {
      "display_name": "Python 3",
      "language": "python",
      "name": "python3"
    },
    "language_info": {
      "codemirror_mode": {
        "name": "ipython",
        "version": 3
      },
      "file_extension": ".py",
      "mimetype": "text/x-python",
      "name": "python",
      "nbconvert_exporter": "python",
      "pygments_lexer": "ipython3",
      "version": "3.6.8"
    },
    "colab": {
      "name": "hw_numpy.ipynb",
      "provenance": [],
      "include_colab_link": true
    }
  },
  "cells": [
    {
      "cell_type": "markdown",
      "metadata": {
        "id": "view-in-github",
        "colab_type": "text"
      },
      "source": [
        "<a href=\"https://colab.research.google.com/github/fedjkeee/HW_data_analysis/blob/main/hw_numpy.ipynb\" target=\"_parent\"><img src=\"https://colab.research.google.com/assets/colab-badge.svg\" alt=\"Open In Colab\"/></a>"
      ]
    },
    {
      "cell_type": "markdown",
      "metadata": {
        "id": "8D8TTfmoyeoO"
      },
      "source": [
        "### Упражнение 1\n",
        "\n",
        "На одном графике изобразите время затраченное на вычисление с использованием массивов numpy и стандартных списков в питоне.  \n",
        "Для более точных результатов замеряйте время выполнения функции несколько раз и усредняйте. \n",
        "* Используйте функцию `z = 2*x**2 + 4*y`\n",
        "* Перемножение матриц размера n на n"
      ]
    },
    {
      "cell_type": "code",
      "metadata": {
        "id": "9gr8aLikykC0"
      },
      "source": [
        "import numpy as np\n",
        "import time\n",
        "from IPython import display\n",
        "import matplotlib.pyplot as plt\n",
        "%matplotlib inline"
      ],
      "execution_count": 1,
      "outputs": []
    },
    {
      "cell_type": "code",
      "metadata": {
        "id": "yUrOulb1yjQM"
      },
      "source": [
        "size_of_vec = 30000\n",
        "\n",
        "def python():\n",
        "    start = time.time()\n",
        "    X = range(size_of_vec)\n",
        "    Y = range(size_of_vec)\n",
        "    Z = [2*X[i]**2 + 4*Y[i] for i in range(len(X))]\n",
        "    return time.time() - start\n",
        "\n",
        "def numpy():\n",
        "    start = time.time()\n",
        "    X = np.arange(size_of_vec)\n",
        "    Y = np.arange(size_of_vec)\n",
        "    Z = 2*X**2 + 4*Y\n",
        "    return time.time() - start"
      ],
      "execution_count": 2,
      "outputs": []
    },
    {
      "cell_type": "code",
      "metadata": {
        "id": "-xnt50UZ2T9f"
      },
      "source": [
        "python_time_av = []\n",
        "numpy_time_av= []\n",
        "\n",
        "for i in range(0,20):\n",
        "    python_time = []\n",
        "    numpy_time= []\n",
        "    for n in range(0,20):\n",
        "        python_time.append(python())\n",
        "        numpy_time.append(numpy())\n",
        "    python_time_av.append(sum(python_time) / len(python_time))\n",
        "    numpy_time_av.append(sum(numpy_time) / len(numpy_time))"
      ],
      "execution_count": 3,
      "outputs": []
    },
    {
      "cell_type": "code",
      "metadata": {
        "colab": {
          "base_uri": "https://localhost:8080/",
          "height": 407
        },
        "id": "gHab_Z5D31Du",
        "outputId": "8fcf1f3c-f4fc-4f0b-f915-ae2bccdbbcea"
      },
      "source": [
        "plt.figure(figsize=(12, 6))\n",
        "plt.plot(np.arange(0,len(python_time_av)), python_time_av, 'go-',color='red', label=\"Python\")\n",
        "plt.plot(np.arange(0,len(numpy_time_av)), numpy_time_av, 'go-',color='blue',label =\"Numpy\")\n",
        "plt.title(\"Скорость вычислений функции Python Numpy\")"
      ],
      "execution_count": 4,
      "outputs": [
        {
          "output_type": "execute_result",
          "data": {
            "text/plain": [
              "Text(0.5, 1.0, 'Скорость вычислений функции Python Numpy')"
            ]
          },
          "metadata": {
            "tags": []
          },
          "execution_count": 4
        },
        {
          "output_type": "display_data",
          "data": {
            "image/png": "[encoded data removed]",
            "text/plain": [
              "<Figure size 864x432 with 1 Axes>"
            ]
          },
          "metadata": {
            "tags": [],
            "needs_background": "light"
          }
        }
      ]
    },
    {
      "cell_type": "code",
      "metadata": {
        "id": "ARDmVrh95biX"
      },
      "source": [
        "def numpy_matrixmult (A, B):\n",
        "    start = time.time()\n",
        "    rows_A = len(A)\n",
        "    cols_A = len(A[0])\n",
        "    rows_B = len(B)\n",
        "    cols_B = len(B[0])\n",
        "\n",
        "    if cols_A != rows_B:\n",
        "      print (\"Incorrect dimensions\")\n",
        "      return \n",
        "    C = [[0 for row in range(cols_B)] for col in range(rows_A)]\n",
        "    for i in range(rows_A):\n",
        "        for j in range(cols_B):\n",
        "            for k in range(cols_A):\n",
        "                C[i][j] += A[i][k] * B[k][j]\n",
        "    return time.time() - start"
      ],
      "execution_count": 5,
      "outputs": []
    },
    {
      "cell_type": "code",
      "metadata": {
        "id": "DvkM69qS-Ezj"
      },
      "source": [
        "def python_matrixmult (A, B):\n",
        "  start = time.time()\n",
        "  C = A@B\n",
        "  return time.time() - start"
      ],
      "execution_count": 6,
      "outputs": []
    },
    {
      "cell_type": "code",
      "metadata": {
        "id": "U3sDUkXw9OGE"
      },
      "source": [
        "A = np.random.rand(3,3)\n",
        "B = np.random.rand(3,3)"
      ],
      "execution_count": 7,
      "outputs": []
    },
    {
      "cell_type": "code",
      "metadata": {
        "id": "plAVlkqc9kMq"
      },
      "source": [
        "python_time_av = []\n",
        "numpy_time_av= []\n",
        "\n",
        "for i in range(0,20):\n",
        "    python_time = []\n",
        "    numpy_time= []\n",
        "    for n in range(0,20):\n",
        "        python_time.append(python_matrixmult(A,B))\n",
        "        numpy_time.append(numpy_matrixmult(A,B))\n",
        "    python_time_av.append(sum(python_time) / len(python_time))\n",
        "    numpy_time_av.append(sum(numpy_time) / len(numpy_time))"
      ],
      "execution_count": 8,
      "outputs": []
    },
    {
      "cell_type": "code",
      "metadata": {
        "colab": {
          "base_uri": "https://localhost:8080/",
          "height": 407
        },
        "id": "3REMqTgW-s21",
        "outputId": "407869f5-e219-4263-d887-716fc135a237"
      },
      "source": [
        "plt.figure(figsize=(12, 6))\n",
        "plt.plot(np.arange(0,len(python_time_av)), python_time_av, 'go-',color='red', label=\"Python\")\n",
        "plt.plot(np.arange(0,len(numpy_time_av)), numpy_time_av, 'go-',color='blue',label =\"Numpy\")\n",
        "plt.title(\"Скорость вычислений умножения матриц Python Numpy\")"
      ],
      "execution_count": 9,
      "outputs": [
        {
          "output_type": "execute_result",
          "data": {
            "text/plain": [
              "Text(0.5, 1.0, 'Скорость вычислений умножения матриц Python Numpy')"
            ]
          },
          "metadata": {
            "tags": []
          },
          "execution_count": 9
        },
        {
          "output_type": "display_data",
          "data": {
            "image/png": "[encoded data removed]",
            "text/plain": [
              "<Figure size 864x432 with 1 Axes>"
            ]
          },
          "metadata": {
            "tags": [],
            "needs_background": "light"
          }
        }
      ]
    },
    {
      "cell_type": "markdown",
      "metadata": {
        "id": "LQJhxVv3yeoS"
      },
      "source": [
        "### Упражнение 2\n",
        "* Создайте массив чисел от 2 до 75. Выведите только нечётные. \n",
        "* Присвойте нечётным числам этого массива значение -1.\n",
        "\n"
      ]
    },
    {
      "cell_type": "code",
      "metadata": {
        "id": "8pDWdzgB-1wJ"
      },
      "source": [
        "array = np.arange(2,76)"
      ],
      "execution_count": 10,
      "outputs": []
    },
    {
      "cell_type": "code",
      "metadata": {
        "colab": {
          "base_uri": "https://localhost:8080/"
        },
        "id": "eC9cIinY-8uJ",
        "outputId": "c421a737-04f4-497a-8f69-336c1cb86a6e"
      },
      "source": [
        "print(array[1::2])"
      ],
      "execution_count": 11,
      "outputs": [
        {
          "output_type": "stream",
          "text": [
            "[ 3  5  7  9 11 13 15 17 19 21 23 25 27 29 31 33 35 37 39 41 43 45 47 49\n",
            " 51 53 55 57 59 61 63 65 67 69 71 73 75]\n"
          ],
          "name": "stdout"
        }
      ]
    },
    {
      "cell_type": "code",
      "metadata": {
        "colab": {
          "base_uri": "https://localhost:8080/"
        },
        "id": "E48W5Cj-_K8Z",
        "outputId": "1d7ed5e7-d66c-4fde-b429-e8aa4f33cc12"
      },
      "source": [
        "array[1::2]=-1\n",
        "print(array)"
      ],
      "execution_count": 12,
      "outputs": [
        {
          "output_type": "stream",
          "text": [
            "[ 2 -1  4 -1  6 -1  8 -1 10 -1 12 -1 14 -1 16 -1 18 -1 20 -1 22 -1 24 -1\n",
            " 26 -1 28 -1 30 -1 32 -1 34 -1 36 -1 38 -1 40 -1 42 -1 44 -1 46 -1 48 -1\n",
            " 50 -1 52 -1 54 -1 56 -1 58 -1 60 -1 62 -1 64 -1 66 -1 68 -1 70 -1 72 -1\n",
            " 74 -1]\n"
          ],
          "name": "stdout"
        }
      ]
    },
    {
      "cell_type": "markdown",
      "metadata": {
        "id": "TKMtF3CAyeoT"
      },
      "source": [
        "### Упражнение 3\n",
        "\n",
        "* Найдите в документации функцию, которая удаляет из одного массива элементы, которые есть в другом. \n",
        "* Приведите примеры использования."
      ]
    },
    {
      "cell_type": "code",
      "metadata": {
        "colab": {
          "base_uri": "https://localhost:8080/"
        },
        "id": "6V76JfeP_PdZ",
        "outputId": "defb5c1b-3b52-4ea8-b8f8-6c1578a7cd60"
      },
      "source": [
        "arr1 = np.random.random_integers(6, size=(20))\n",
        "arr2 = np.random.random_integers(5, size=(20))\n",
        "print(arr1)\n",
        "print(arr2)"
      ],
      "execution_count": 13,
      "outputs": [
        {
          "output_type": "stream",
          "text": [
            "[4 4 3 1 6 1 1 4 1 4 6 1 1 5 4 3 6 3 5 4]\n",
            "[5 1 4 1 1 2 3 1 4 2 5 3 5 2 1 1 1 5 4 4]\n"
          ],
          "name": "stdout"
        },
        {
          "output_type": "stream",
          "text": [
            "/usr/local/lib/python3.7/dist-packages/ipykernel_launcher.py:1: DeprecationWarning: This function is deprecated. Please call randint(1, 6 + 1) instead\n",
            "  \"\"\"Entry point for launching an IPython kernel.\n",
            "/usr/local/lib/python3.7/dist-packages/ipykernel_launcher.py:2: DeprecationWarning: This function is deprecated. Please call randint(1, 5 + 1) instead\n",
            "  \n"
          ],
          "name": "stderr"
        }
      ]
    },
    {
      "cell_type": "code",
      "metadata": {
        "colab": {
          "base_uri": "https://localhost:8080/"
        },
        "id": "fYaeuJGtAOvC",
        "outputId": "11b34f37-5a02-42f8-821c-88c10db24b7c"
      },
      "source": [
        "np.in1d(arr1,arr2)"
      ],
      "execution_count": 14,
      "outputs": [
        {
          "output_type": "execute_result",
          "data": {
            "text/plain": [
              "array([ True,  True,  True,  True, False,  True,  True,  True,  True,\n",
              "        True, False,  True,  True,  True,  True,  True, False,  True,\n",
              "        True,  True])"
            ]
          },
          "metadata": {
            "tags": []
          },
          "execution_count": 14
        }
      ]
    },
    {
      "cell_type": "code",
      "metadata": {
        "colab": {
          "base_uri": "https://localhost:8080/"
        },
        "id": "Hfvd4qFQAjqi",
        "outputId": "272b0356-4fc3-4435-ba7a-ec7ce784ed34"
      },
      "source": [
        "#Значения, отсутсвующие во втором массиве\n",
        "arr1[~np.in1d(arr1,arr2)]"
      ],
      "execution_count": 15,
      "outputs": [
        {
          "output_type": "execute_result",
          "data": {
            "text/plain": [
              "array([6, 6, 6])"
            ]
          },
          "metadata": {
            "tags": []
          },
          "execution_count": 15
        }
      ]
    },
    {
      "cell_type": "markdown",
      "metadata": {
        "id": "p1bB3-8WyeoT"
      },
      "source": [
        "### Упражнение 4\n",
        "\n",
        "* Создайте случайную квадратную матрицу случайного размера от 10 до 100. \n",
        "* Найдите максимум и сумму элементов.\n",
        "* Поделите каждый элемент матрицы на максимум.\n",
        "* Отнимите от каждой строки матрицы среднее по строке.\n",
        "* Замените максимальное значение на -1."
      ]
    },
    {
      "cell_type": "code",
      "metadata": {
        "colab": {
          "base_uri": "https://localhost:8080/"
        },
        "id": "urpfrH55Av7n",
        "outputId": "c10058d0-90bb-410f-b9d1-40b19eb87c2b"
      },
      "source": [
        "matrix_size = np.random.random_integers(10,101)\n",
        "matrix = np.random.random_integers(10,101,size=(matrix_size,matrix_size))"
      ],
      "execution_count": 16,
      "outputs": [
        {
          "output_type": "stream",
          "text": [
            "/usr/local/lib/python3.7/dist-packages/ipykernel_launcher.py:1: DeprecationWarning: This function is deprecated. Please call randint(10, 101 + 1) instead\n",
            "  \"\"\"Entry point for launching an IPython kernel.\n",
            "/usr/local/lib/python3.7/dist-packages/ipykernel_launcher.py:2: DeprecationWarning: This function is deprecated. Please call randint(10, 101 + 1) instead\n",
            "  \n"
          ],
          "name": "stderr"
        }
      ]
    },
    {
      "cell_type": "code",
      "metadata": {
        "colab": {
          "base_uri": "https://localhost:8080/"
        },
        "id": "b-4qcvjqBMpb",
        "outputId": "1c65c623-e01e-436c-c31c-54cd98baf522"
      },
      "source": [
        "#Найдите максимум и сумму элементов.\n",
        "print(\"Максимум:\", matrix.max())\n",
        "print(\"Сумма:\", matrix.sum())\n"
      ],
      "execution_count": 17,
      "outputs": [
        {
          "output_type": "stream",
          "text": [
            "Максимум: 101\n",
            "Сумма: 256558\n"
          ],
          "name": "stdout"
        }
      ]
    },
    {
      "cell_type": "code",
      "metadata": {
        "colab": {
          "base_uri": "https://localhost:8080/"
        },
        "id": "BTkkVJW8B7Jo",
        "outputId": "f950e1bb-7c0a-47b7-9169-f8cbb79f8de4"
      },
      "source": [
        " #Поделите каждый элемент матрицы на максимум.\n",
        " matrix /  matrix.max()"
      ],
      "execution_count": 18,
      "outputs": [
        {
          "output_type": "execute_result",
          "data": {
            "text/plain": [
              "array([[0.30693069, 0.37623762, 0.54455446, ..., 0.10891089, 0.67326733,\n",
              "        0.22772277],\n",
              "       [0.30693069, 0.65346535, 0.89108911, ..., 0.33663366, 0.30693069,\n",
              "        0.84158416],\n",
              "       [0.96039604, 0.74257426, 0.54455446, ..., 0.34653465, 0.63366337,\n",
              "        0.8019802 ],\n",
              "       ...,\n",
              "       [0.52475248, 0.53465347, 0.42574257, ..., 0.13861386, 0.56435644,\n",
              "        0.71287129],\n",
              "       [0.30693069, 0.48514851, 0.88118812, ..., 0.27722772, 0.44554455,\n",
              "        0.8019802 ],\n",
              "       [0.20792079, 0.61386139, 0.88118812, ..., 0.10891089, 0.13861386,\n",
              "        0.17821782]])"
            ]
          },
          "metadata": {
            "tags": []
          },
          "execution_count": 18
        }
      ]
    },
    {
      "cell_type": "code",
      "metadata": {
        "id": "jg7mZLBTCEk4"
      },
      "source": [
        "#Отнимите от каждой строки матрицы среднее по строке\n",
        "row_mean = np.mean(matrix,axis=1)"
      ],
      "execution_count": 19,
      "outputs": []
    },
    {
      "cell_type": "code",
      "metadata": {
        "id": "eNY-KMteDEx2"
      },
      "source": [
        "row_mean = row_mean.reshape(matrix_size,1)"
      ],
      "execution_count": 20,
      "outputs": []
    },
    {
      "cell_type": "code",
      "metadata": {
        "colab": {
          "base_uri": "https://localhost:8080/"
        },
        "id": "zNs2OVwYC3FB",
        "outputId": "eeb419c9-4f1f-4ab3-d796-f972709c292b"
      },
      "source": [
        "matrix -row_mean"
      ],
      "execution_count": 21,
      "outputs": [
        {
          "output_type": "execute_result",
          "data": {
            "text/plain": [
              "array([[-19.80882353, -12.80882353,   4.19117647, ..., -39.80882353,\n",
              "         17.19117647, -27.80882353],\n",
              "       [-20.60294118,  14.39705882,  38.39705882, ..., -17.60294118,\n",
              "        -20.60294118,  33.39705882],\n",
              "       [ 41.11764706,  19.11764706,  -0.88235294, ..., -20.88235294,\n",
              "          8.11764706,  25.11764706],\n",
              "       ...,\n",
              "       [  0.82352941,   1.82352941,  -9.17647059, ..., -38.17647059,\n",
              "          4.82352941,  19.82352941],\n",
              "       [-25.79411765,  -7.79411765,  32.20588235, ..., -28.79411765,\n",
              "        -11.79411765,  24.20588235],\n",
              "       [-33.69117647,   7.30882353,  34.30882353, ..., -43.69117647,\n",
              "        -40.69117647, -36.69117647]])"
            ]
          },
          "metadata": {
            "tags": []
          },
          "execution_count": 21
        }
      ]
    },
    {
      "cell_type": "code",
      "metadata": {
        "id": "biVhxqeqDgS_"
      },
      "source": [
        "#Замените максимальное значение на -1.\n",
        "matrix[np.where(matrix == matrix.max())]=-1"
      ],
      "execution_count": 22,
      "outputs": []
    },
    {
      "cell_type": "markdown",
      "metadata": {
        "id": "4zX61ncMyeoU"
      },
      "source": [
        "### Упражнение 5\n",
        "* Напишите функцию, которая берет многомерный вещественный массив с пропущенными значениями (np.nan) и возвращает его копию с заполненными пропусками (заменять средним значением всех элементов массива). Если в массиве одни пропущенные значения, заполните их нулями."
      ]
    },
    {
      "cell_type": "code",
      "metadata": {
        "id": "DvPdzjb5EGLA"
      },
      "source": [
        "def fill_nan(arr):\n",
        "  if False not in (np.isnan(arr) == True):\n",
        "    arr = np.zeros(arr.shape)\n",
        "  else:\n",
        "    arr =np.nan_to_num(arr,nan=np.nanmean(arr))\n",
        "  return arr\n",
        "    \n"
      ],
      "execution_count": 23,
      "outputs": []
    },
    {
      "cell_type": "code",
      "metadata": {
        "id": "vFu6xb0tEq8P"
      },
      "source": [
        "arr=np.array([1,np.nan,3,np.nan,5])"
      ],
      "execution_count": 24,
      "outputs": []
    },
    {
      "cell_type": "code",
      "metadata": {
        "colab": {
          "base_uri": "https://localhost:8080/"
        },
        "id": "kopzUWDQG3ne",
        "outputId": "0d39a615-3b7a-44d9-b5bf-b61e5040b133"
      },
      "source": [
        "fill_nan(arr)"
      ],
      "execution_count": 25,
      "outputs": [
        {
          "output_type": "execute_result",
          "data": {
            "text/plain": [
              "array([1., 3., 3., 3., 5.])"
            ]
          },
          "metadata": {
            "tags": []
          },
          "execution_count": 25
        }
      ]
    },
    {
      "cell_type": "markdown",
      "metadata": {
        "id": "Vh4uUKB4yeoU"
      },
      "source": [
        "### Упражнение 6\n",
        "* Напишите функцию которая нормализирует заданный numpy-массив, так чтобы его значения лежали в интервале $[0, 1]$."
      ]
    },
    {
      "cell_type": "code",
      "metadata": {
        "id": "T0FmPYlTIVj0"
      },
      "source": [
        "def  array_norm(arr):\n",
        "  arr = np.nan_to_num(arr)\n",
        "  return (arr - arr.min()) / (arr.max() - arr.min())"
      ],
      "execution_count": 26,
      "outputs": []
    },
    {
      "cell_type": "code",
      "metadata": {
        "colab": {
          "base_uri": "https://localhost:8080/"
        },
        "id": "KiYsIGduKTKE",
        "outputId": "6020e78c-7e31-4bc5-b950-a761d4ed1851"
      },
      "source": [
        "array = np.random.random_integers(0,100, size=(3,3))\n",
        "print(array_norm(array))"
      ],
      "execution_count": 27,
      "outputs": [
        {
          "output_type": "stream",
          "text": [
            "[[0.36263736 0.52747253 0.37362637]\n",
            " [0.03296703 0.75824176 0.        ]\n",
            " [0.59340659 0.52747253 1.        ]]\n"
          ],
          "name": "stdout"
        },
        {
          "output_type": "stream",
          "text": [
            "/usr/local/lib/python3.7/dist-packages/ipykernel_launcher.py:1: DeprecationWarning: This function is deprecated. Please call randint(0, 100 + 1) instead\n",
            "  \"\"\"Entry point for launching an IPython kernel.\n"
          ],
          "name": "stderr"
        }
      ]
    },
    {
      "cell_type": "markdown",
      "metadata": {
        "id": "BQENLGt5yeoU"
      },
      "source": [
        "### Упражнение 7\n",
        "* Запишите numpy-array в файл.\n",
        "* Считайте numpy-array из файла."
      ]
    },
    {
      "cell_type": "code",
      "metadata": {
        "id": "kU2HRL53LIHU"
      },
      "source": [
        "arr1 = [1,2,3]\n",
        "np.save('arr1.npy',arr1)\n",
        "del arr1"
      ],
      "execution_count": 28,
      "outputs": []
    },
    {
      "cell_type": "code",
      "metadata": {
        "colab": {
          "base_uri": "https://localhost:8080/"
        },
        "id": "qTgq7LQzLO-b",
        "outputId": "8ca3b1ad-c06a-40c0-a032-a5aba38df1c2"
      },
      "source": [
        "arr1 = np.load('arr1.npy')\n",
        "arr1"
      ],
      "execution_count": 29,
      "outputs": [
        {
          "output_type": "execute_result",
          "data": {
            "text/plain": [
              "array([1, 2, 3])"
            ]
          },
          "metadata": {
            "tags": []
          },
          "execution_count": 29
        }
      ]
    },
    {
      "cell_type": "markdown",
      "metadata": {
        "id": "QsojzHsEyeoV"
      },
      "source": [
        "### Упражнение 8\n",
        "* Создайте случайный массив\n",
        "* Найдите в массиве элемент ближайший к данному"
      ]
    },
    {
      "cell_type": "code",
      "metadata": {
        "colab": {
          "base_uri": "https://localhost:8080/"
        },
        "id": "zh5yErDEMOD8",
        "outputId": "4d63fbb8-0af4-420e-820c-9543e0c43455"
      },
      "source": [
        "arr = np.random.random_integers(0,1000, size=(5,5))\n",
        "arr"
      ],
      "execution_count": 30,
      "outputs": [
        {
          "output_type": "stream",
          "text": [
            "/usr/local/lib/python3.7/dist-packages/ipykernel_launcher.py:1: DeprecationWarning: This function is deprecated. Please call randint(0, 1000 + 1) instead\n",
            "  \"\"\"Entry point for launching an IPython kernel.\n"
          ],
          "name": "stderr"
        },
        {
          "output_type": "execute_result",
          "data": {
            "text/plain": [
              "array([[174, 488, 276, 196, 484],\n",
              "       [899, 342, 867, 665, 566],\n",
              "       [627, 198, 944, 763, 314],\n",
              "       [530, 292, 318, 127, 110],\n",
              "       [181,  19, 669, 788, 639]])"
            ]
          },
          "metadata": {
            "tags": []
          },
          "execution_count": 30
        }
      ]
    },
    {
      "cell_type": "code",
      "metadata": {
        "colab": {
          "base_uri": "https://localhost:8080/"
        },
        "id": "TQDhXDYfMcd6",
        "outputId": "bb5f6bfb-faa6-4cbc-a17c-f9e58e4e8723"
      },
      "source": [
        "X= 235\n",
        "#найдем индекс минимального значения массива  абсолютных значений разниц между элеметами массива и нашим числом\n",
        "ind = np.unravel_index(np.argmin(np.absolute(arr-X), axis=None), arr.shape)\n",
        "arr[ind]"
      ],
      "execution_count": 31,
      "outputs": [
        {
          "output_type": "execute_result",
          "data": {
            "text/plain": [
              "198"
            ]
          },
          "metadata": {
            "tags": []
          },
          "execution_count": 31
        }
      ]
    },
    {
      "cell_type": "markdown",
      "metadata": {
        "id": "gf2rp2CmyeoW"
      },
      "source": [
        "### Упражнение 9"
      ]
    },
    {
      "cell_type": "markdown",
      "metadata": {
        "id": "1lyj-0cCyeoX"
      },
      "source": [
        "* Напишите функцию, которая возвращает  $n \\times m$ целочисленную матрицу с заданным значением на границах матрицы и с заданным значением внутри"
      ]
    },
    {
      "cell_type": "code",
      "metadata": {
        "id": "N8q5PVAoN6ui"
      },
      "source": [
        "def n_m_matrix(n,m,x,y):\n",
        "  matrix = np.full((n,m),y)\n",
        "  matrix[0,:]=x\n",
        "  matrix[:,0]=x\n",
        "  matrix[n-1,:]=x\n",
        "  matrix[:,m-1]=x\n",
        "  return matrix"
      ],
      "execution_count": 32,
      "outputs": []
    },
    {
      "cell_type": "code",
      "metadata": {
        "colab": {
          "base_uri": "https://localhost:8080/"
        },
        "id": "MpkmHA9-OEsL",
        "outputId": "4e5b08ce-9000-4860-b071-f63d40482002"
      },
      "source": [
        "n_m_matrix(5,6,11,22)"
      ],
      "execution_count": 33,
      "outputs": [
        {
          "output_type": "execute_result",
          "data": {
            "text/plain": [
              "array([[11, 11, 11, 11, 11, 11],\n",
              "       [11, 22, 22, 22, 22, 11],\n",
              "       [11, 22, 22, 22, 22, 11],\n",
              "       [11, 22, 22, 22, 22, 11],\n",
              "       [11, 11, 11, 11, 11, 11]])"
            ]
          },
          "metadata": {
            "tags": []
          },
          "execution_count": 33
        }
      ]
    },
    {
      "cell_type": "markdown",
      "metadata": {
        "id": "VllqLZsRyeoX"
      },
      "source": [
        "### Упражнение 10\n",
        "* Напишите функцию, которая сортирует строки данной матрицы по значениям заданного столбца в порядке убывания. "
      ]
    },
    {
      "cell_type": "code",
      "metadata": {
        "id": "ftNrOb6fQgB4"
      },
      "source": [
        "def matrix_sort(arr,n):\n",
        "  return arr[np.argsort(arr[:, n])]\n"
      ],
      "execution_count": 34,
      "outputs": []
    },
    {
      "cell_type": "code",
      "metadata": {
        "colab": {
          "base_uri": "https://localhost:8080/"
        },
        "id": "viXQ4Ef97lRy",
        "outputId": "b439a018-197c-4059-f975-3609bad4b5a1"
      },
      "source": [
        "arr = np.random.random_integers(0,1000, size=(5,5))\n",
        "arr"
      ],
      "execution_count": 35,
      "outputs": [
        {
          "output_type": "stream",
          "text": [
            "/usr/local/lib/python3.7/dist-packages/ipykernel_launcher.py:1: DeprecationWarning: This function is deprecated. Please call randint(0, 1000 + 1) instead\n",
            "  \"\"\"Entry point for launching an IPython kernel.\n"
          ],
          "name": "stderr"
        },
        {
          "output_type": "execute_result",
          "data": {
            "text/plain": [
              "array([[877, 720,  99, 760, 660],\n",
              "       [113, 501, 112, 114, 238],\n",
              "       [267, 882, 670, 607, 575],\n",
              "       [943, 183, 284, 557, 513],\n",
              "       [725, 235, 740, 679, 926]])"
            ]
          },
          "metadata": {
            "tags": []
          },
          "execution_count": 35
        }
      ]
    },
    {
      "cell_type": "code",
      "metadata": {
        "colab": {
          "base_uri": "https://localhost:8080/"
        },
        "id": "fP4SBQnZ8Boq",
        "outputId": "b2046e5f-f155-4022-f514-9fc216322f13"
      },
      "source": [
        "matrix_sort(arr,2)"
      ],
      "execution_count": 36,
      "outputs": [
        {
          "output_type": "execute_result",
          "data": {
            "text/plain": [
              "array([[877, 720,  99, 760, 660],\n",
              "       [113, 501, 112, 114, 238],\n",
              "       [943, 183, 284, 557, 513],\n",
              "       [267, 882, 670, 607, 575],\n",
              "       [725, 235, 740, 679, 926]])"
            ]
          },
          "metadata": {
            "tags": []
          },
          "execution_count": 36
        }
      ]
    },
    {
      "cell_type": "markdown",
      "metadata": {
        "id": "svXiaY_YyeoX"
      },
      "source": [
        "### Упражнение 11\n",
        "\n",
        "* Напишите функцию, которая создает двоичную матрицу шахматной доски с заданным shape\n",
        "\n",
        "Пример 4x4:\n",
        "```python\n",
        "[[0, 1, 0, 1],\n",
        " [1, 0, 1, 0],\n",
        " [0, 1, 0, 1],\n",
        " [1, 0, 1, 0]]\n",
        "```"
      ]
    },
    {
      "cell_type": "code",
      "metadata": {
        "id": "k655RfAV8bfY"
      },
      "source": [
        "def chess_matrix(n):\n",
        "  even = np.r_[ n*[0,1] ]             \n",
        "  odd = np.r_[ n*[1,0] ]       \n",
        "  return np.row_stack(n*(even, odd))\n"
      ],
      "execution_count": 37,
      "outputs": []
    },
    {
      "cell_type": "code",
      "metadata": {
        "colab": {
          "base_uri": "https://localhost:8080/"
        },
        "id": "cpijJ6bS-MAW",
        "outputId": "c9334c3d-8c34-4db9-c0b2-13bbe03cc91c"
      },
      "source": [
        "chess_matrix(8)"
      ],
      "execution_count": 38,
      "outputs": [
        {
          "output_type": "execute_result",
          "data": {
            "text/plain": [
              "array([[0, 1, 0, 1, 0, 1, 0, 1, 0, 1, 0, 1, 0, 1, 0, 1],\n",
              "       [1, 0, 1, 0, 1, 0, 1, 0, 1, 0, 1, 0, 1, 0, 1, 0],\n",
              "       [0, 1, 0, 1, 0, 1, 0, 1, 0, 1, 0, 1, 0, 1, 0, 1],\n",
              "       [1, 0, 1, 0, 1, 0, 1, 0, 1, 0, 1, 0, 1, 0, 1, 0],\n",
              "       [0, 1, 0, 1, 0, 1, 0, 1, 0, 1, 0, 1, 0, 1, 0, 1],\n",
              "       [1, 0, 1, 0, 1, 0, 1, 0, 1, 0, 1, 0, 1, 0, 1, 0],\n",
              "       [0, 1, 0, 1, 0, 1, 0, 1, 0, 1, 0, 1, 0, 1, 0, 1],\n",
              "       [1, 0, 1, 0, 1, 0, 1, 0, 1, 0, 1, 0, 1, 0, 1, 0],\n",
              "       [0, 1, 0, 1, 0, 1, 0, 1, 0, 1, 0, 1, 0, 1, 0, 1],\n",
              "       [1, 0, 1, 0, 1, 0, 1, 0, 1, 0, 1, 0, 1, 0, 1, 0],\n",
              "       [0, 1, 0, 1, 0, 1, 0, 1, 0, 1, 0, 1, 0, 1, 0, 1],\n",
              "       [1, 0, 1, 0, 1, 0, 1, 0, 1, 0, 1, 0, 1, 0, 1, 0],\n",
              "       [0, 1, 0, 1, 0, 1, 0, 1, 0, 1, 0, 1, 0, 1, 0, 1],\n",
              "       [1, 0, 1, 0, 1, 0, 1, 0, 1, 0, 1, 0, 1, 0, 1, 0],\n",
              "       [0, 1, 0, 1, 0, 1, 0, 1, 0, 1, 0, 1, 0, 1, 0, 1],\n",
              "       [1, 0, 1, 0, 1, 0, 1, 0, 1, 0, 1, 0, 1, 0, 1, 0]])"
            ]
          },
          "metadata": {
            "tags": []
          },
          "execution_count": 38
        }
      ]
    },
    {
      "cell_type": "markdown",
      "metadata": {
        "id": "jBKda049yeoX"
      },
      "source": [
        "### Упражнение 12\n",
        "* Напишите игру [life](https://en.wikipedia.org/wiki/Conway%27s_Game_of_Life), используя массивы numpy.\n",
        "* Визуализируйте интерактивно ее результаты.\n",
        "\n"
      ]
    },
    {
      "cell_type": "markdown",
      "metadata": {
        "id": "OpyFvQCyAuBm"
      },
      "source": [
        "правила из википедии:  \n",
        "Any live cell with two or three live neighbours survives.  \n",
        "Any dead cell with three live neighbours becomes a live cell.  \n",
        "All other live cells die in the next generation. Similarly, all other dead cells stay dead.  "
      ]
    },
    {
      "cell_type": "code",
      "metadata": {
        "id": "KztuqfqGAtNO"
      },
      "source": [
        "#создаем пустую матрицу размером N+2 и добавляем несколько живых ячеек. N+2 нужна для создания \"рамки\" вокруг поля, которое будет обновляться через \n",
        "def create_world(n):\n",
        "  arr=np.zeros(shape=(n+2,n+2))\n",
        "  x = np.random.random_integers(1,n-1)\n",
        "  arr[x,x]=1\n",
        "  arr[x+1,x]=1\n",
        "  arr[x+2,x]=1\n",
        "  arr[x+1,x+1]=1\n",
        "  arr[x+1,x+2]=1\n",
        "  return arr"
      ],
      "execution_count": 39,
      "outputs": []
    },
    {
      "cell_type": "code",
      "metadata": {
        "colab": {
          "base_uri": "https://localhost:8080/"
        },
        "id": "3SHVoINGIwzD",
        "outputId": "be7141a9-114f-4f34-9e3d-db675d8a090d"
      },
      "source": [
        "N=10\n",
        "board=create_world(N)\n",
        "board"
      ],
      "execution_count": 40,
      "outputs": [
        {
          "output_type": "stream",
          "text": [
            "/usr/local/lib/python3.7/dist-packages/ipykernel_launcher.py:4: DeprecationWarning: This function is deprecated. Please call randint(1, 9 + 1) instead\n",
            "  after removing the cwd from sys.path.\n"
          ],
          "name": "stderr"
        },
        {
          "output_type": "execute_result",
          "data": {
            "text/plain": [
              "array([[0., 0., 0., 0., 0., 0., 0., 0., 0., 0., 0., 0.],\n",
              "       [0., 0., 0., 0., 0., 0., 0., 0., 0., 0., 0., 0.],\n",
              "       [0., 0., 1., 0., 0., 0., 0., 0., 0., 0., 0., 0.],\n",
              "       [0., 0., 1., 1., 1., 0., 0., 0., 0., 0., 0., 0.],\n",
              "       [0., 0., 1., 0., 0., 0., 0., 0., 0., 0., 0., 0.],\n",
              "       [0., 0., 0., 0., 0., 0., 0., 0., 0., 0., 0., 0.],\n",
              "       [0., 0., 0., 0., 0., 0., 0., 0., 0., 0., 0., 0.],\n",
              "       [0., 0., 0., 0., 0., 0., 0., 0., 0., 0., 0., 0.],\n",
              "       [0., 0., 0., 0., 0., 0., 0., 0., 0., 0., 0., 0.],\n",
              "       [0., 0., 0., 0., 0., 0., 0., 0., 0., 0., 0., 0.],\n",
              "       [0., 0., 0., 0., 0., 0., 0., 0., 0., 0., 0., 0.],\n",
              "       [0., 0., 0., 0., 0., 0., 0., 0., 0., 0., 0., 0.]])"
            ]
          },
          "metadata": {
            "tags": []
          },
          "execution_count": 40
        }
      ]
    },
    {
      "cell_type": "code",
      "metadata": {
        "id": "qdWhtzGSKbDS"
      },
      "source": [
        "#разбиваем наш массив на массивы 3*3, для вычисления кол-ва соседей \n",
        "from numpy.lib.stride_tricks import as_strided\n",
        "\n",
        "def update_board(board):\n",
        "  neighborhoods = as_strided(board, shape=(N,N,3,3), strides=board.strides+board.strides)\n",
        "  board_tmp=np.copy(board)\n",
        "  for i in np.arange(1,board.shape[0]-1):\n",
        "    for j in np.arange(1,board.shape[1]-1):\n",
        "      n_neibors = neighborhoods[i-1,j-1].sum()-board_tmp[i,j] #считаем кол-во живых соседей\n",
        "      if board_tmp[i,j] == 0 and n_neibors == 3:\n",
        "        board_tmp[i,j] =1\n",
        "      elif board_tmp[i,j] == 1 and n_neibors in [2,3]:\n",
        "        continue\n",
        "      else:\n",
        "        board_tmp[i,j] = 0\n",
        "  return board_tmp"
      ],
      "execution_count": 41,
      "outputs": []
    },
    {
      "cell_type": "code",
      "metadata": {
        "colab": {
          "base_uri": "https://localhost:8080/",
          "height": 265
        },
        "id": "oW6Tbvk5LW4L",
        "outputId": "95f246a9-34c9-45e9-a8b3-b79ba863e7fc"
      },
      "source": [
        "from time import sleep\n",
        "from IPython.display import clear_output\n",
        "board=create_world(N)\n",
        "for i in np.arange(0,20):\n",
        "  plt.imshow(board)\n",
        "  plt.show()\n",
        "  sleep(0.5)  #plt.pause не работает в Colab'е\n",
        "  board=update_board(board)\n",
        "  clear_output(wait=True)"
      ],
      "execution_count": 43,
      "outputs": [
        {
          "output_type": "display_data",
          "data": {
            "image/png": "[encoded data removed]",
            "text/plain": [
              "<Figure size 432x288 with 1 Axes>"
            ]
          },
          "metadata": {
            "tags": [],
            "needs_background": "light"
          }
        }
      ]
    }
  ]
}