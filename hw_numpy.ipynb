{
  "nbformat": 4,
  "nbformat_minor": 0,
  "metadata": {
    "kernelspec": {
      "display_name": "Python 3",
      "language": "python",
      "name": "python3"
    },
    "language_info": {
      "codemirror_mode": {
        "name": "ipython",
        "version": 3
      },
      "file_extension": ".py",
      "mimetype": "text/x-python",
      "name": "python",
      "nbconvert_exporter": "python",
      "pygments_lexer": "ipython3",
      "version": "3.6.8"
    },
    "colab": {
      "name": "hw_numpy.ipynb",
      "provenance": [],
      "include_colab_link": true
    }
  },
  "cells": [
    {
      "cell_type": "markdown",
      "metadata": {
        "id": "view-in-github",
        "colab_type": "text"
      },
      "source": [
        "<a href=\"https://colab.research.google.com/github/fedjkeee/HW_data_analysis/blob/main/hw_numpy.ipynb\" target=\"_parent\"><img src=\"https://colab.research.google.com/assets/colab-badge.svg\" alt=\"Open In Colab\"/></a>"
      ]
    },
    {
      "cell_type": "markdown",
      "metadata": {
        "id": "8D8TTfmoyeoO"
      },
      "source": [
        "### Упражнение 1\n",
        "\n",
        "На одном графике изобразите время затраченное на вычисление с использованием массивов numpy и стандартных списков в питоне.  \n",
        "Для более точных результатов замеряйте время выполнения функции несколько раз и усредняйте. \n",
        "* Используйте функцию `z = 2*x**2 + 4*y`\n",
        "* Перемножение матриц размера n на n"
      ]
    },
    {
      "cell_type": "code",
      "metadata": {
        "id": "9gr8aLikykC0"
      },
      "source": [
        "import numpy as np\n",
        "import time\n",
        "from IPython import display\n",
        "import matplotlib.pyplot as plt\n",
        "%matplotlib inline"
      ],
      "execution_count": 1,
      "outputs": []
    },
    {
      "cell_type": "code",
      "metadata": {
        "id": "yUrOulb1yjQM"
      },
      "source": [
        "size_of_vec = 30000\n",
        "\n",
        "def python(n):\n",
        "    start = time.time()\n",
        "    X = range(n)\n",
        "    Y = range(n)\n",
        "    Z = [2*X[i]**2 + 4*Y[i] for i in range(len(X))]\n",
        "    return time.time() - start\n",
        "\n",
        "def numpy(n):\n",
        "    start = time.time()\n",
        "    X = np.arange(n)\n",
        "    Y = np.arange(n)\n",
        "    Z = 2*X**2 + 4*Y\n",
        "    return time.time() - start"
      ],
      "execution_count": 2,
      "outputs": []
    },
    {
      "cell_type": "code",
      "metadata": {
        "id": "-xnt50UZ2T9f"
      },
      "source": [
        "python_time_av = []\n",
        "numpy_time_av= []\n",
        "\n",
        "for i in range(1000,30000,1000):\n",
        "    python_time = []\n",
        "    numpy_time= []\n",
        "    for n in range(0,5):\n",
        "        python_time.append(python(i))\n",
        "        numpy_time.append(numpy(i))\n",
        "    python_time_av.append(sum(python_time) / 5)\n",
        "    numpy_time_av.append(sum(numpy_time) / 5)"
      ],
      "execution_count": 3,
      "outputs": []
    },
    {
      "cell_type": "code",
      "metadata": {
        "colab": {
          "base_uri": "https://localhost:8080/",
          "height": 407
        },
        "id": "gHab_Z5D31Du",
        "outputId": "7341931e-8011-4c19-d67d-75ac4a9155f3"
      },
      "source": [
        "plt.figure(figsize=(12, 6))\n",
        "plt.plot(np.arange(0,len(python_time_av)), python_time_av, 'go-',color='red', label=\"Python\")\n",
        "plt.plot(np.arange(0,len(numpy_time_av)), numpy_time_av, 'go-',color='blue',label =\"Numpy\")\n",
        "plt.title(\"Скорость вычислений функции Python Numpy в зависимости от размера вектора\")\n",
        "plt.legend(loc='best')"
      ],
      "execution_count": 4,
      "outputs": [
        {
          "output_type": "execute_result",
          "data": {
            "text/plain": [
              "<matplotlib.legend.Legend at 0x7f8dc5790610>"
            ]
          },
          "metadata": {
            "tags": []
          },
          "execution_count": 4
        },
        {
          "output_type": "display_data",
          "data": {
            "image/png": "[encoded data removed]",
            "text/plain": [
              "<Figure size 864x432 with 1 Axes>"
            ]
          },
          "metadata": {
            "tags": [],
            "needs_background": "light"
          }
        }
      ]
    },
    {
      "cell_type": "code",
      "metadata": {
        "id": "ARDmVrh95biX"
      },
      "source": [
        "def python_matrixmult (A, B):\n",
        "    start = time.time()\n",
        "    rows_A = len(A)\n",
        "    cols_A = len(A[0])\n",
        "    rows_B = len(B)\n",
        "    cols_B = len(B[0])\n",
        "\n",
        "    if cols_A != rows_B:\n",
        "      print (\"Incorrect dimensions\")\n",
        "      return \n",
        "    C = [[0 for row in range(cols_B)] for col in range(rows_A)]\n",
        "    for i in range(rows_A):\n",
        "        for j in range(cols_B):\n",
        "            for k in range(cols_A):\n",
        "                C[i][j] += A[i][k] * B[k][j]\n",
        "    return time.time() - start"
      ],
      "execution_count": 5,
      "outputs": []
    },
    {
      "cell_type": "code",
      "metadata": {
        "id": "DvkM69qS-Ezj"
      },
      "source": [
        "def numpy_matrixmult (A, B):\n",
        "  start = time.time()\n",
        "  C = A@B\n",
        "  return time.time() - start"
      ],
      "execution_count": 6,
      "outputs": []
    },
    {
      "cell_type": "code",
      "metadata": {
        "id": "plAVlkqc9kMq"
      },
      "source": [
        "python_time_av = []\n",
        "numpy_time_av= []\n",
        "\n",
        "for i in range(10,100,10):\n",
        "    python_time = []\n",
        "    numpy_time= []\n",
        "    A = np.random.randint(1,10,size=(i,i))\n",
        "    B = np.random.randint(1,10,size=(i,i))\n",
        "    for n in range(0,5):\n",
        "        python_time.append(python_matrixmult(A,B))\n",
        "        numpy_time.append(numpy_matrixmult(A,B))\n",
        "    python_time_av.append(sum(python_time) / 5)\n",
        "    numpy_time_av.append(sum(numpy_time) / 5)"
      ],
      "execution_count": 7,
      "outputs": []
    },
    {
      "cell_type": "code",
      "metadata": {
        "colab": {
          "base_uri": "https://localhost:8080/",
          "height": 407
        },
        "id": "3REMqTgW-s21",
        "outputId": "a630502d-27df-4a20-d61d-ab014663a843"
      },
      "source": [
        "plt.figure(figsize=(12, 6))\n",
        "plt.plot(np.arange(0,len(python_time_av)), python_time_av, 'go-',color='red', label=\"Python\")\n",
        "plt.plot(np.arange(0,len(numpy_time_av)), numpy_time_av, 'go-',color='blue',label =\"Numpy\")\n",
        "plt.title(\"Скорость вычислений умножения матриц Python Numpy\")\n",
        "plt.legend(loc='best')"
      ],
      "execution_count": 8,
      "outputs": [
        {
          "output_type": "execute_result",
          "data": {
            "text/plain": [
              "<matplotlib.legend.Legend at 0x7f8dc56d7a50>"
            ]
          },
          "metadata": {
            "tags": []
          },
          "execution_count": 8
        },
        {
          "output_type": "display_data",
          "data": {
            "image/png": "[encoded data removed]",
            "text/plain": [
              "<Figure size 864x432 with 1 Axes>"
            ]
          },
          "metadata": {
            "tags": [],
            "needs_background": "light"
          }
        }
      ]
    },
    {
      "cell_type": "markdown",
      "metadata": {
        "id": "LQJhxVv3yeoS"
      },
      "source": [
        "### Упражнение 2\n",
        "* Создайте массив чисел от 2 до 75. Выведите только нечётные. \n",
        "* Присвойте нечётным числам этого массива значение -1.\n",
        "\n"
      ]
    },
    {
      "cell_type": "code",
      "metadata": {
        "id": "8pDWdzgB-1wJ"
      },
      "source": [
        "array = np.arange(2,76)"
      ],
      "execution_count": 9,
      "outputs": []
    },
    {
      "cell_type": "code",
      "metadata": {
        "colab": {
          "base_uri": "https://localhost:8080/"
        },
        "id": "eC9cIinY-8uJ",
        "outputId": "e548154d-f131-476f-f17b-a2f72d7013eb"
      },
      "source": [
        "print(array[1::2])"
      ],
      "execution_count": 10,
      "outputs": [
        {
          "output_type": "stream",
          "text": [
            "[ 3  5  7  9 11 13 15 17 19 21 23 25 27 29 31 33 35 37 39 41 43 45 47 49\n",
            " 51 53 55 57 59 61 63 65 67 69 71 73 75]\n"
          ],
          "name": "stdout"
        }
      ]
    },
    {
      "cell_type": "code",
      "metadata": {
        "colab": {
          "base_uri": "https://localhost:8080/"
        },
        "id": "E48W5Cj-_K8Z",
        "outputId": "99aa7c3e-5845-4c48-b137-512ce554ed38"
      },
      "source": [
        "array[1::2]=-1\n",
        "print(array)"
      ],
      "execution_count": 11,
      "outputs": [
        {
          "output_type": "stream",
          "text": [
            "[ 2 -1  4 -1  6 -1  8 -1 10 -1 12 -1 14 -1 16 -1 18 -1 20 -1 22 -1 24 -1\n",
            " 26 -1 28 -1 30 -1 32 -1 34 -1 36 -1 38 -1 40 -1 42 -1 44 -1 46 -1 48 -1\n",
            " 50 -1 52 -1 54 -1 56 -1 58 -1 60 -1 62 -1 64 -1 66 -1 68 -1 70 -1 72 -1\n",
            " 74 -1]\n"
          ],
          "name": "stdout"
        }
      ]
    },
    {
      "cell_type": "markdown",
      "metadata": {
        "id": "TKMtF3CAyeoT"
      },
      "source": [
        "### Упражнение 3\n",
        "\n",
        "* Найдите в документации функцию, которая удаляет из одного массива элементы, которые есть в другом. \n",
        "* Приведите примеры использования."
      ]
    },
    {
      "cell_type": "code",
      "metadata": {
        "colab": {
          "base_uri": "https://localhost:8080/"
        },
        "id": "6V76JfeP_PdZ",
        "outputId": "585a1e6d-dc24-426c-de8a-2c4e489cee7b"
      },
      "source": [
        "arr1 = np.random.random_integers(6, size=(20))\n",
        "arr2 = np.random.random_integers(5, size=(20))\n",
        "print(arr1)\n",
        "print(arr2)"
      ],
      "execution_count": 12,
      "outputs": [
        {
          "output_type": "stream",
          "text": [
            "[4 5 4 2 6 2 3 6 6 4 2 2 6 4 5 3 2 2 1 6]\n",
            "[2 1 1 5 3 1 4 5 3 3 2 5 2 4 1 5 2 4 1 4]\n"
          ],
          "name": "stdout"
        },
        {
          "output_type": "stream",
          "text": [
            "/usr/local/lib/python3.7/dist-packages/ipykernel_launcher.py:1: DeprecationWarning: This function is deprecated. Please call randint(1, 6 + 1) instead\n",
            "  \"\"\"Entry point for launching an IPython kernel.\n",
            "/usr/local/lib/python3.7/dist-packages/ipykernel_launcher.py:2: DeprecationWarning: This function is deprecated. Please call randint(1, 5 + 1) instead\n",
            "  \n"
          ],
          "name": "stderr"
        }
      ]
    },
    {
      "cell_type": "code",
      "metadata": {
        "colab": {
          "base_uri": "https://localhost:8080/"
        },
        "id": "fYaeuJGtAOvC",
        "outputId": "f0adfbbb-634a-4da2-a8a9-36a7fea5b8e1"
      },
      "source": [
        "np.setdiff1d(arr1,arr2)"
      ],
      "execution_count": 13,
      "outputs": [
        {
          "output_type": "execute_result",
          "data": {
            "text/plain": [
              "array([6])"
            ]
          },
          "metadata": {
            "tags": []
          },
          "execution_count": 13
        }
      ]
    },
    {
      "cell_type": "markdown",
      "metadata": {
        "id": "p1bB3-8WyeoT"
      },
      "source": [
        "### Упражнение 4\n",
        "\n",
        "* Создайте случайную квадратную матрицу случайного размера от 10 до 100. \n",
        "* Найдите максимум и сумму элементов.\n",
        "* Поделите каждый элемент матрицы на максимум.\n",
        "* Отнимите от каждой строки матрицы среднее по строке.\n",
        "* Замените максимальное значение на -1."
      ]
    },
    {
      "cell_type": "code",
      "metadata": {
        "colab": {
          "base_uri": "https://localhost:8080/"
        },
        "id": "urpfrH55Av7n",
        "outputId": "d92422f3-b5a1-4e5a-fd9e-d863fac25dce"
      },
      "source": [
        "matrix_size = np.random.random_integers(10,101)\n",
        "matrix = np.random.random_integers(10,101,size=(matrix_size,matrix_size))"
      ],
      "execution_count": 14,
      "outputs": [
        {
          "output_type": "stream",
          "text": [
            "/usr/local/lib/python3.7/dist-packages/ipykernel_launcher.py:1: DeprecationWarning: This function is deprecated. Please call randint(10, 101 + 1) instead\n",
            "  \"\"\"Entry point for launching an IPython kernel.\n",
            "/usr/local/lib/python3.7/dist-packages/ipykernel_launcher.py:2: DeprecationWarning: This function is deprecated. Please call randint(10, 101 + 1) instead\n",
            "  \n"
          ],
          "name": "stderr"
        }
      ]
    },
    {
      "cell_type": "code",
      "metadata": {
        "colab": {
          "base_uri": "https://localhost:8080/"
        },
        "id": "b-4qcvjqBMpb",
        "outputId": "6d0ca81e-3d7d-4d82-8106-b408bcc7e281"
      },
      "source": [
        "#Найдите максимум и сумму элементов.\n",
        "print(\"Максимум:\", matrix.max())\n",
        "print(\"Сумма:\", matrix.sum())\n"
      ],
      "execution_count": 15,
      "outputs": [
        {
          "output_type": "stream",
          "text": [
            "Максимум: 101\n",
            "Сумма: 246480\n"
          ],
          "name": "stdout"
        }
      ]
    },
    {
      "cell_type": "code",
      "metadata": {
        "colab": {
          "base_uri": "https://localhost:8080/"
        },
        "id": "BTkkVJW8B7Jo",
        "outputId": "c72b303b-c1d6-4d60-f8c7-93956bfcbf7a"
      },
      "source": [
        " #Поделите каждый элемент матрицы на максимум.\n",
        " matrix /  matrix.max()"
      ],
      "execution_count": 16,
      "outputs": [
        {
          "output_type": "execute_result",
          "data": {
            "text/plain": [
              "array([[0.21782178, 0.10891089, 0.40594059, ..., 0.20792079, 0.4950495 ,\n",
              "        0.74257426],\n",
              "       [0.47524752, 0.45544554, 0.46534653, ..., 0.58415842, 0.31683168,\n",
              "        0.77227723],\n",
              "       [0.77227723, 0.24752475, 0.61386139, ..., 0.34653465, 0.7029703 ,\n",
              "        0.33663366],\n",
              "       ...,\n",
              "       [0.99009901, 0.94059406, 0.91089109, ..., 0.18811881, 0.4950495 ,\n",
              "        0.33663366],\n",
              "       [0.53465347, 0.72277228, 0.92079208, ..., 0.21782178, 0.28712871,\n",
              "        0.1980198 ],\n",
              "       [0.65346535, 0.18811881, 0.28712871, ..., 0.25742574, 0.43564356,\n",
              "        0.95049505]])"
            ]
          },
          "metadata": {
            "tags": []
          },
          "execution_count": 16
        }
      ]
    },
    {
      "cell_type": "code",
      "metadata": {
        "id": "jg7mZLBTCEk4"
      },
      "source": [
        "#Отнимите от каждой строки матрицы среднее по строке\n",
        "row_mean = np.mean(matrix,axis=1)"
      ],
      "execution_count": 17,
      "outputs": []
    },
    {
      "cell_type": "code",
      "metadata": {
        "id": "eNY-KMteDEx2"
      },
      "source": [
        "row_mean = row_mean.reshape(matrix_size,1)"
      ],
      "execution_count": 18,
      "outputs": []
    },
    {
      "cell_type": "code",
      "metadata": {
        "colab": {
          "base_uri": "https://localhost:8080/"
        },
        "id": "zNs2OVwYC3FB",
        "outputId": "f121b7f5-ad9e-419e-aefe-fdb2e78ae5f8"
      },
      "source": [
        "matrix -row_mean"
      ],
      "execution_count": 19,
      "outputs": [
        {
          "output_type": "execute_result",
          "data": {
            "text/plain": [
              "array([[-34.04477612, -45.04477612, -15.04477612, ..., -35.04477612,\n",
              "         -6.04477612,  18.95522388],\n",
              "       [ -4.11940299,  -6.11940299,  -5.11940299, ...,   6.88059701,\n",
              "        -20.11940299,  25.88059701],\n",
              "       [ 24.10447761, -28.89552239,   8.10447761, ..., -18.89552239,\n",
              "         17.10447761, -19.89552239],\n",
              "       ...,\n",
              "       [ 44.70149254,  39.70149254,  36.70149254, ..., -36.29850746,\n",
              "         -5.29850746, -21.29850746],\n",
              "       [ -0.19402985,  18.80597015,  38.80597015, ..., -32.19402985,\n",
              "        -25.19402985, -34.19402985],\n",
              "       [  9.98507463, -37.01492537, -27.01492537, ..., -30.01492537,\n",
              "        -12.01492537,  39.98507463]])"
            ]
          },
          "metadata": {
            "tags": []
          },
          "execution_count": 19
        }
      ]
    },
    {
      "cell_type": "code",
      "metadata": {
        "id": "biVhxqeqDgS_"
      },
      "source": [
        "#Замените максимальное значение на -1.\n",
        "matrix[np.where(matrix == matrix.max())]=-1"
      ],
      "execution_count": 20,
      "outputs": []
    },
    {
      "cell_type": "markdown",
      "metadata": {
        "id": "4zX61ncMyeoU"
      },
      "source": [
        "### Упражнение 5\n",
        "* Напишите функцию, которая берет многомерный вещественный массив с пропущенными значениями (np.nan) и возвращает его копию с заполненными пропусками (заменять средним значением всех элементов массива). Если в массиве одни пропущенные значения, заполните их нулями."
      ]
    },
    {
      "cell_type": "code",
      "metadata": {
        "id": "DvPdzjb5EGLA"
      },
      "source": [
        "def fill_nan(arr):\n",
        "  if False not in (np.isnan(arr) == True):\n",
        "    arr = np.zeros(arr.shape)\n",
        "  else:\n",
        "    arr =np.nan_to_num(arr,nan=np.nanmean(arr))\n",
        "  return arr\n",
        "    \n"
      ],
      "execution_count": 21,
      "outputs": []
    },
    {
      "cell_type": "code",
      "metadata": {
        "id": "vFu6xb0tEq8P"
      },
      "source": [
        "arr=np.array([1,np.nan,3,np.nan,5])"
      ],
      "execution_count": 22,
      "outputs": []
    },
    {
      "cell_type": "code",
      "metadata": {
        "colab": {
          "base_uri": "https://localhost:8080/"
        },
        "id": "kopzUWDQG3ne",
        "outputId": "b2a93ca8-e86e-4485-fcb7-8dc0486d6148"
      },
      "source": [
        "fill_nan(arr)"
      ],
      "execution_count": 23,
      "outputs": [
        {
          "output_type": "execute_result",
          "data": {
            "text/plain": [
              "array([1., 3., 3., 3., 5.])"
            ]
          },
          "metadata": {
            "tags": []
          },
          "execution_count": 23
        }
      ]
    },
    {
      "cell_type": "markdown",
      "metadata": {
        "id": "Vh4uUKB4yeoU"
      },
      "source": [
        "### Упражнение 6\n",
        "* Напишите функцию которая нормализирует заданный numpy-массив, так чтобы его значения лежали в интервале $[0, 1]$."
      ]
    },
    {
      "cell_type": "code",
      "metadata": {
        "id": "T0FmPYlTIVj0"
      },
      "source": [
        "def  array_norm(arr):\n",
        "  arr = np.nan_to_num(arr)\n",
        "  return (arr - arr.min()) / (arr.max() - arr.min())"
      ],
      "execution_count": 24,
      "outputs": []
    },
    {
      "cell_type": "code",
      "metadata": {
        "colab": {
          "base_uri": "https://localhost:8080/"
        },
        "id": "KiYsIGduKTKE",
        "outputId": "672ea28c-990f-4599-b181-7e83b7452402"
      },
      "source": [
        "array = np.random.random_integers(0,100, size=(3,3))\n",
        "print(array_norm(array))"
      ],
      "execution_count": 25,
      "outputs": [
        {
          "output_type": "stream",
          "text": [
            "[[0.87356322 0.         0.87356322]\n",
            " [0.57471264 0.26436782 1.        ]\n",
            " [0.79310345 0.87356322 0.55172414]]\n"
          ],
          "name": "stdout"
        },
        {
          "output_type": "stream",
          "text": [
            "/usr/local/lib/python3.7/dist-packages/ipykernel_launcher.py:1: DeprecationWarning: This function is deprecated. Please call randint(0, 100 + 1) instead\n",
            "  \"\"\"Entry point for launching an IPython kernel.\n"
          ],
          "name": "stderr"
        }
      ]
    },
    {
      "cell_type": "markdown",
      "metadata": {
        "id": "BQENLGt5yeoU"
      },
      "source": [
        "### Упражнение 7\n",
        "* Запишите numpy-array в файл.\n",
        "* Считайте numpy-array из файла."
      ]
    },
    {
      "cell_type": "code",
      "metadata": {
        "id": "kU2HRL53LIHU"
      },
      "source": [
        "arr1 = [1,2,3]\n",
        "np.save('arr1.npy',arr1)\n",
        "del arr1"
      ],
      "execution_count": 26,
      "outputs": []
    },
    {
      "cell_type": "code",
      "metadata": {
        "colab": {
          "base_uri": "https://localhost:8080/"
        },
        "id": "qTgq7LQzLO-b",
        "outputId": "4ff10081-5b79-4101-bb61-86d097c8bf5e"
      },
      "source": [
        "arr1 = np.load('arr1.npy')\n",
        "arr1"
      ],
      "execution_count": 27,
      "outputs": [
        {
          "output_type": "execute_result",
          "data": {
            "text/plain": [
              "array([1, 2, 3])"
            ]
          },
          "metadata": {
            "tags": []
          },
          "execution_count": 27
        }
      ]
    },
    {
      "cell_type": "markdown",
      "metadata": {
        "id": "QsojzHsEyeoV"
      },
      "source": [
        "### Упражнение 8\n",
        "* Создайте случайный массив\n",
        "* Найдите в массиве элемент ближайший к данному"
      ]
    },
    {
      "cell_type": "code",
      "metadata": {
        "colab": {
          "base_uri": "https://localhost:8080/"
        },
        "id": "zh5yErDEMOD8",
        "outputId": "cf5c1d5a-ed1f-45c2-a65f-03aae71b67ce"
      },
      "source": [
        "arr = np.random.random_integers(0,1000, size=(5,5))\n",
        "arr"
      ],
      "execution_count": 28,
      "outputs": [
        {
          "output_type": "stream",
          "text": [
            "/usr/local/lib/python3.7/dist-packages/ipykernel_launcher.py:1: DeprecationWarning: This function is deprecated. Please call randint(0, 1000 + 1) instead\n",
            "  \"\"\"Entry point for launching an IPython kernel.\n"
          ],
          "name": "stderr"
        },
        {
          "output_type": "execute_result",
          "data": {
            "text/plain": [
              "array([[225, 713, 502, 253, 778],\n",
              "       [334, 803, 823,  67, 614],\n",
              "       [770, 175, 674,  24, 442],\n",
              "       [113, 133, 266, 552, 342],\n",
              "       [339, 294, 461, 345, 923]])"
            ]
          },
          "metadata": {
            "tags": []
          },
          "execution_count": 28
        }
      ]
    },
    {
      "cell_type": "code",
      "metadata": {
        "colab": {
          "base_uri": "https://localhost:8080/"
        },
        "id": "TQDhXDYfMcd6",
        "outputId": "475fcea8-69bd-4803-e6be-9454a7396c9f"
      },
      "source": [
        "X= 235\n",
        "ind = np.unravel_index(np.argmin(np.absolute(arr-X), axis=None), arr.shape)\n",
        "arr[ind]"
      ],
      "execution_count": 29,
      "outputs": [
        {
          "output_type": "execute_result",
          "data": {
            "text/plain": [
              "225"
            ]
          },
          "metadata": {
            "tags": []
          },
          "execution_count": 29
        }
      ]
    },
    {
      "cell_type": "markdown",
      "metadata": {
        "id": "gf2rp2CmyeoW"
      },
      "source": [
        "### Упражнение 9"
      ]
    },
    {
      "cell_type": "markdown",
      "metadata": {
        "id": "1lyj-0cCyeoX"
      },
      "source": [
        "* Напишите функцию, которая возвращает  $n \\times m$ целочисленную матрицу с заданным значением на границах матрицы и с заданным значением внутри"
      ]
    },
    {
      "cell_type": "code",
      "metadata": {
        "id": "N8q5PVAoN6ui"
      },
      "source": [
        "def n_m_matrix(n,m,x,y):\n",
        "  matrix = np.full((n,m),y)\n",
        "  matrix[0,:]=x\n",
        "  matrix[:,0]=x\n",
        "  matrix[n-1,:]=x\n",
        "  matrix[:,m-1]=x\n",
        "  return matrix"
      ],
      "execution_count": 30,
      "outputs": []
    },
    {
      "cell_type": "code",
      "metadata": {
        "colab": {
          "base_uri": "https://localhost:8080/"
        },
        "id": "MpkmHA9-OEsL",
        "outputId": "f624577e-d1c0-4754-83bd-da09c1503302"
      },
      "source": [
        "n_m_matrix(5,6,11,22)"
      ],
      "execution_count": 31,
      "outputs": [
        {
          "output_type": "execute_result",
          "data": {
            "text/plain": [
              "array([[11, 11, 11, 11, 11, 11],\n",
              "       [11, 22, 22, 22, 22, 11],\n",
              "       [11, 22, 22, 22, 22, 11],\n",
              "       [11, 22, 22, 22, 22, 11],\n",
              "       [11, 11, 11, 11, 11, 11]])"
            ]
          },
          "metadata": {
            "tags": []
          },
          "execution_count": 31
        }
      ]
    },
    {
      "cell_type": "markdown",
      "metadata": {
        "id": "VllqLZsRyeoX"
      },
      "source": [
        "### Упражнение 10\n",
        "* Напишите функцию, которая сортирует строки данной матрицы по значениям заданного столбца в порядке убывания. "
      ]
    },
    {
      "cell_type": "code",
      "metadata": {
        "id": "ftNrOb6fQgB4"
      },
      "source": [
        "def matrix_sort(arr,n):\n",
        "  return arr[np.argsort(arr[:, n])]\n"
      ],
      "execution_count": 32,
      "outputs": []
    },
    {
      "cell_type": "code",
      "metadata": {
        "colab": {
          "base_uri": "https://localhost:8080/"
        },
        "id": "viXQ4Ef97lRy",
        "outputId": "bcf937af-c1f1-40e2-c826-bf3c57a0b4fa"
      },
      "source": [
        "arr = np.random.random_integers(0,1000, size=(5,5))\n",
        "arr"
      ],
      "execution_count": 33,
      "outputs": [
        {
          "output_type": "stream",
          "text": [
            "/usr/local/lib/python3.7/dist-packages/ipykernel_launcher.py:1: DeprecationWarning: This function is deprecated. Please call randint(0, 1000 + 1) instead\n",
            "  \"\"\"Entry point for launching an IPython kernel.\n"
          ],
          "name": "stderr"
        },
        {
          "output_type": "execute_result",
          "data": {
            "text/plain": [
              "array([[  9, 554, 607, 421, 547],\n",
              "       [373, 504, 706, 479, 611],\n",
              "       [999, 336, 533, 379, 345],\n",
              "       [241, 755, 734, 205, 995],\n",
              "       [957, 290, 474, 705, 897]])"
            ]
          },
          "metadata": {
            "tags": []
          },
          "execution_count": 33
        }
      ]
    },
    {
      "cell_type": "code",
      "metadata": {
        "colab": {
          "base_uri": "https://localhost:8080/"
        },
        "id": "fP4SBQnZ8Boq",
        "outputId": "48bab5eb-83a2-4097-9391-1d0b619bc749"
      },
      "source": [
        "matrix_sort(arr,2)"
      ],
      "execution_count": 34,
      "outputs": [
        {
          "output_type": "execute_result",
          "data": {
            "text/plain": [
              "array([[957, 290, 474, 705, 897],\n",
              "       [999, 336, 533, 379, 345],\n",
              "       [  9, 554, 607, 421, 547],\n",
              "       [373, 504, 706, 479, 611],\n",
              "       [241, 755, 734, 205, 995]])"
            ]
          },
          "metadata": {
            "tags": []
          },
          "execution_count": 34
        }
      ]
    },
    {
      "cell_type": "markdown",
      "metadata": {
        "id": "svXiaY_YyeoX"
      },
      "source": [
        "### Упражнение 11\n",
        "\n",
        "* Напишите функцию, которая создает двоичную матрицу шахматной доски с заданным shape\n",
        "\n",
        "Пример 4x4:\n",
        "```python\n",
        "[[0, 1, 0, 1],\n",
        " [1, 0, 1, 0],\n",
        " [0, 1, 0, 1],\n",
        " [1, 0, 1, 0]]\n",
        "```"
      ]
    },
    {
      "cell_type": "code",
      "metadata": {
        "id": "k655RfAV8bfY"
      },
      "source": [
        "def chess_matrix(n):\n",
        "  even = np.r_[ n*[0,1] ]             \n",
        "  odd = np.r_[ n*[1,0] ]  \n",
        "  arr =np.row_stack(n*(even, odd))   #матрица 2*n\n",
        "  return arr[0:n,0:n]\n"
      ],
      "execution_count": 35,
      "outputs": []
    },
    {
      "cell_type": "code",
      "metadata": {
        "colab": {
          "base_uri": "https://localhost:8080/"
        },
        "id": "cpijJ6bS-MAW",
        "outputId": "c206790b-8544-4398-ed1c-e3a89d54f857"
      },
      "source": [
        "chess_matrix(7)"
      ],
      "execution_count": 36,
      "outputs": [
        {
          "output_type": "execute_result",
          "data": {
            "text/plain": [
              "array([[0, 1, 0, 1, 0, 1, 0],\n",
              "       [1, 0, 1, 0, 1, 0, 1],\n",
              "       [0, 1, 0, 1, 0, 1, 0],\n",
              "       [1, 0, 1, 0, 1, 0, 1],\n",
              "       [0, 1, 0, 1, 0, 1, 0],\n",
              "       [1, 0, 1, 0, 1, 0, 1],\n",
              "       [0, 1, 0, 1, 0, 1, 0]])"
            ]
          },
          "metadata": {
            "tags": []
          },
          "execution_count": 36
        }
      ]
    },
    {
      "cell_type": "markdown",
      "metadata": {
        "id": "jBKda049yeoX"
      },
      "source": [
        "### Упражнение 12\n",
        "* Напишите игру [life](https://en.wikipedia.org/wiki/Conway%27s_Game_of_Life), используя массивы numpy.\n",
        "* Визуализируйте интерактивно ее результаты.\n",
        "\n"
      ]
    },
    {
      "cell_type": "markdown",
      "metadata": {
        "id": "OpyFvQCyAuBm"
      },
      "source": [
        "правила из википедии:  \n",
        "Any live cell with two or three live neighbours survives.  \n",
        "Any dead cell with three live neighbours becomes a live cell.  \n",
        "All other live cells die in the next generation. Similarly, all other dead cells stay dead.  "
      ]
    },
    {
      "cell_type": "code",
      "metadata": {
        "id": "KztuqfqGAtNO"
      },
      "source": [
        "#создаем пустую матрицу размером N+2 и добавляем несколько живых ячеек. N+2 нужна для создания \"рамки\" вокруг поля, которое будет обновляться через \n",
        "def create_world(n):\n",
        "  arr=np.zeros(shape=(n+2,n+2))\n",
        "  x = np.random.random_integers(1,n-1)\n",
        "  arr[x,x]=1\n",
        "  arr[x+1,x]=1\n",
        "  arr[x+2,x]=1\n",
        "  arr[x+1,x+1]=1\n",
        "  arr[x+1,x+2]=1\n",
        "  return arr"
      ],
      "execution_count": 37,
      "outputs": []
    },
    {
      "cell_type": "code",
      "metadata": {
        "colab": {
          "base_uri": "https://localhost:8080/"
        },
        "id": "3SHVoINGIwzD",
        "outputId": "8d71c746-26b6-4db9-f0e6-a9610ab047b6"
      },
      "source": [
        "N=10\n",
        "board=create_world(N)\n",
        "board"
      ],
      "execution_count": 38,
      "outputs": [
        {
          "output_type": "stream",
          "text": [
            "/usr/local/lib/python3.7/dist-packages/ipykernel_launcher.py:4: DeprecationWarning: This function is deprecated. Please call randint(1, 9 + 1) instead\n",
            "  after removing the cwd from sys.path.\n"
          ],
          "name": "stderr"
        },
        {
          "output_type": "execute_result",
          "data": {
            "text/plain": [
              "array([[0., 0., 0., 0., 0., 0., 0., 0., 0., 0., 0., 0.],\n",
              "       [0., 0., 0., 0., 0., 0., 0., 0., 0., 0., 0., 0.],\n",
              "       [0., 0., 0., 0., 0., 0., 0., 0., 0., 0., 0., 0.],\n",
              "       [0., 0., 0., 0., 0., 0., 0., 0., 0., 0., 0., 0.],\n",
              "       [0., 0., 0., 0., 0., 0., 0., 0., 0., 0., 0., 0.],\n",
              "       [0., 0., 0., 0., 0., 0., 0., 0., 0., 0., 0., 0.],\n",
              "       [0., 0., 0., 0., 0., 0., 0., 0., 0., 0., 0., 0.],\n",
              "       [0., 0., 0., 0., 0., 0., 0., 1., 0., 0., 0., 0.],\n",
              "       [0., 0., 0., 0., 0., 0., 0., 1., 1., 1., 0., 0.],\n",
              "       [0., 0., 0., 0., 0., 0., 0., 1., 0., 0., 0., 0.],\n",
              "       [0., 0., 0., 0., 0., 0., 0., 0., 0., 0., 0., 0.],\n",
              "       [0., 0., 0., 0., 0., 0., 0., 0., 0., 0., 0., 0.]])"
            ]
          },
          "metadata": {
            "tags": []
          },
          "execution_count": 38
        }
      ]
    },
    {
      "cell_type": "code",
      "metadata": {
        "id": "qdWhtzGSKbDS"
      },
      "source": [
        "#разбиваем наш массив на массивы 3*3, для вычисления кол-ва соседей \n",
        "from numpy.lib.stride_tricks import as_strided\n",
        "\n",
        "def update_board(board):\n",
        "  neighborhoods = as_strided(board, shape=(N,N,3,3), strides=board.strides+board.strides)\n",
        "  board_tmp=np.copy(board)\n",
        "  for i in np.arange(1,board.shape[0]-1):\n",
        "    for j in np.arange(1,board.shape[1]-1):\n",
        "      n_neibors = neighborhoods[i-1,j-1].sum()-board_tmp[i,j] #считаем кол-во живых соседей\n",
        "      if board_tmp[i,j] == 0 and n_neibors == 3:\n",
        "        board_tmp[i,j] =1\n",
        "      elif board_tmp[i,j] == 1 and n_neibors in [2,3]:\n",
        "        continue\n",
        "      else:\n",
        "        board_tmp[i,j] = 0\n",
        "  return board_tmp"
      ],
      "execution_count": 39,
      "outputs": []
    },
    {
      "cell_type": "code",
      "metadata": {
        "colab": {
          "base_uri": "https://localhost:8080/",
          "height": 265
        },
        "id": "oW6Tbvk5LW4L",
        "outputId": "d334c6c4-456e-4a6e-81a5-1f8605f3adcb"
      },
      "source": [
        "from time import sleep\n",
        "from IPython.display import clear_output\n",
        "board=create_world(N)\n",
        "for i in np.arange(0,20):\n",
        "  plt.imshow(board)\n",
        "  plt.show()\n",
        "  sleep(0.5)  #plt.pause не работает в Colab'е\n",
        "  board=update_board(board)\n",
        "  clear_output(wait=True)"
      ],
      "execution_count": 40,
      "outputs": [
        {
          "output_type": "display_data",
          "data": {
            "image/png": "[encoded data removed]",
            "text/plain": [
              "<Figure size 432x288 with 1 Axes>"
            ]
          },
          "metadata": {
            "tags": [],
            "needs_background": "light"
          }
        }
      ]
    }
  ]
}