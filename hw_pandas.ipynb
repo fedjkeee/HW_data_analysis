{
  "nbformat": 4,
  "nbformat_minor": 0,
  "metadata": {
    "kernelspec": {
      "display_name": "Python 3",
      "language": "python",
      "name": "python3"
    },
    "language_info": {
      "codemirror_mode": {
        "name": "ipython",
        "version": 3
      },
      "file_extension": ".py",
      "mimetype": "text/x-python",
      "name": "python",
      "nbconvert_exporter": "python",
      "pygments_lexer": "ipython3",
      "version": "3.7.6"
    },
    "colab": {
      "name": "hw_pandas.ipynb",
      "provenance": []
    }
  },
  "cells": [
    {
      "cell_type": "markdown",
      "metadata": {
        "id": "DSQzwIvtO1SF"
      },
      "source": [
        "## Анализ причин выжимаемости на Титанике\n",
        "\n",
        "В качестве первого домашнего задания Вам предстоит сформулировать и проверить гипотезы о причинах выживаемости на Титанике. Необходимые данные можно найти на [GitHub](https://github.com/aleksei-riabykh/sberbank_data_analysis_06_07_21/tree/master/data/titanic) курса, описание к данным на сайте соревнований по анализу данных [Kaggle](https://www.kaggle.com/c/titanic/data). \n",
        "\n",
        "Критерии оценивания:\n",
        "* Четко сформулированы гипотезы и выводы из них\n",
        "* Гипотез не меньше 3-х\n",
        "* Присутствуют кросс-признаковые гипотезы (например, процент выживаемости среди молодых женщин: пол + возраст)\n",
        "* Использованы группировки `.groupby()` с агрегированием `.aggregate()`, трансформацией `.transform()` или фильтрацией  `.filter()` данных\n",
        "* Присутствует визуализация\n",
        "* Присутствует общий вывод исследования"
      ]
    },
    {
      "cell_type": "code",
      "metadata": {
        "id": "AI58Iin0O8V4"
      },
      "source": [
        "#import lib\n",
        "import pandas as pd\n",
        "import numpy as np\n",
        "import seaborn as sns\n",
        "import matplotlib.pyplot as plt\n",
        "from matplotlib import cm\n",
        "%matplotlib inline\n",
        "\n",
        "cmap = cm.get_cmap('Spectral')"
      ],
      "execution_count": 160,
      "outputs": []
    },
    {
      "cell_type": "markdown",
      "metadata": {
        "id": "HvI1hXHIPvj9"
      },
      "source": [
        "![image.png](data:image/png;base64,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)"
      ]
    },
    {
      "cell_type": "code",
      "metadata": {
        "id": "fSOPlYEaPAgQ"
      },
      "source": [
        "data = pd.read_csv(\"https://raw.githubusercontent.com/aleksei-riabykh/sberbank_data_analysis_06_07_21/master/data/titanic/train.csv\")"
      ],
      "execution_count": 161,
      "outputs": []
    },
    {
      "cell_type": "code",
      "metadata": {
        "colab": {
          "base_uri": "https://localhost:8080/",
          "height": 204
        },
        "id": "m3Wk5PJhPbnB",
        "outputId": "4168ca39-34ff-4f88-d1ef-548d6d079cc1"
      },
      "source": [
        "data.head()"
      ],
      "execution_count": 162,
      "outputs": [
        {
          "output_type": "execute_result",
          "data": {
            "text/html": [
              "<div>\n",
              "<style scoped>\n",
              "    .dataframe tbody tr th:only-of-type {\n",
              "        vertical-align: middle;\n",
              "    }\n",
              "\n",
              "    .dataframe tbody tr th {\n",
              "        vertical-align: top;\n",
              "    }\n",
              "\n",
              "    .dataframe thead th {\n",
              "        text-align: right;\n",
              "    }\n",
              "</style>\n",
              "<table border=\"1\" class=\"dataframe\">\n",
              "  <thead>\n",
              "    <tr style=\"text-align: right;\">\n",
              "      <th></th>\n",
              "      <th>PassengerId</th>\n",
              "      <th>Survived</th>\n",
              "      <th>Pclass</th>\n",
              "      <th>Name</th>\n",
              "      <th>Sex</th>\n",
              "      <th>Age</th>\n",
              "      <th>SibSp</th>\n",
              "      <th>Parch</th>\n",
              "      <th>Ticket</th>\n",
              "      <th>Fare</th>\n",
              "      <th>Cabin</th>\n",
              "      <th>Embarked</th>\n",
              "    </tr>\n",
              "  </thead>\n",
              "  <tbody>\n",
              "    <tr>\n",
              "      <th>0</th>\n",
              "      <td>1</td>\n",
              "      <td>0</td>\n",
              "      <td>3</td>\n",
              "      <td>Braund, Mr. Owen Harris</td>\n",
              "      <td>male</td>\n",
              "      <td>22.0</td>\n",
              "      <td>1</td>\n",
              "      <td>0</td>\n",
              "      <td>A/5 21171</td>\n",
              "      <td>7.2500</td>\n",
              "      <td>NaN</td>\n",
              "      <td>S</td>\n",
              "    </tr>\n",
              "    <tr>\n",
              "      <th>1</th>\n",
              "      <td>2</td>\n",
              "      <td>1</td>\n",
              "      <td>1</td>\n",
              "      <td>Cumings, Mrs. John Bradley (Florence Briggs Th...</td>\n",
              "      <td>female</td>\n",
              "      <td>38.0</td>\n",
              "      <td>1</td>\n",
              "      <td>0</td>\n",
              "      <td>PC 17599</td>\n",
              "      <td>71.2833</td>\n",
              "      <td>C85</td>\n",
              "      <td>C</td>\n",
              "    </tr>\n",
              "    <tr>\n",
              "      <th>2</th>\n",
              "      <td>3</td>\n",
              "      <td>1</td>\n",
              "      <td>3</td>\n",
              "      <td>Heikkinen, Miss. Laina</td>\n",
              "      <td>female</td>\n",
              "      <td>26.0</td>\n",
              "      <td>0</td>\n",
              "      <td>0</td>\n",
              "      <td>STON/O2. 3101282</td>\n",
              "      <td>7.9250</td>\n",
              "      <td>NaN</td>\n",
              "      <td>S</td>\n",
              "    </tr>\n",
              "    <tr>\n",
              "      <th>3</th>\n",
              "      <td>4</td>\n",
              "      <td>1</td>\n",
              "      <td>1</td>\n",
              "      <td>Futrelle, Mrs. Jacques Heath (Lily May Peel)</td>\n",
              "      <td>female</td>\n",
              "      <td>35.0</td>\n",
              "      <td>1</td>\n",
              "      <td>0</td>\n",
              "      <td>113803</td>\n",
              "      <td>53.1000</td>\n",
              "      <td>C123</td>\n",
              "      <td>S</td>\n",
              "    </tr>\n",
              "    <tr>\n",
              "      <th>4</th>\n",
              "      <td>5</td>\n",
              "      <td>0</td>\n",
              "      <td>3</td>\n",
              "      <td>Allen, Mr. William Henry</td>\n",
              "      <td>male</td>\n",
              "      <td>35.0</td>\n",
              "      <td>0</td>\n",
              "      <td>0</td>\n",
              "      <td>373450</td>\n",
              "      <td>8.0500</td>\n",
              "      <td>NaN</td>\n",
              "      <td>S</td>\n",
              "    </tr>\n",
              "  </tbody>\n",
              "</table>\n",
              "</div>"
            ],
            "text/plain": [
              "   PassengerId  Survived  Pclass  ...     Fare Cabin  Embarked\n",
              "0            1         0       3  ...   7.2500   NaN         S\n",
              "1            2         1       1  ...  71.2833   C85         C\n",
              "2            3         1       3  ...   7.9250   NaN         S\n",
              "3            4         1       1  ...  53.1000  C123         S\n",
              "4            5         0       3  ...   8.0500   NaN         S\n",
              "\n",
              "[5 rows x 12 columns]"
            ]
          },
          "metadata": {
            "tags": []
          },
          "execution_count": 162
        }
      ]
    },
    {
      "cell_type": "code",
      "metadata": {
        "colab": {
          "base_uri": "https://localhost:8080/"
        },
        "id": "ilFzgiygO4F0",
        "outputId": "c8840713-a21b-47fa-db23-01365b9d5307"
      },
      "source": [
        "data.info()"
      ],
      "execution_count": 163,
      "outputs": [
        {
          "output_type": "stream",
          "text": [
            "<class 'pandas.core.frame.DataFrame'>\n",
            "RangeIndex: 891 entries, 0 to 890\n",
            "Data columns (total 12 columns):\n",
            " #   Column       Non-Null Count  Dtype  \n",
            "---  ------       --------------  -----  \n",
            " 0   PassengerId  891 non-null    int64  \n",
            " 1   Survived     891 non-null    int64  \n",
            " 2   Pclass       891 non-null    int64  \n",
            " 3   Name         891 non-null    object \n",
            " 4   Sex          891 non-null    object \n",
            " 5   Age          714 non-null    float64\n",
            " 6   SibSp        891 non-null    int64  \n",
            " 7   Parch        891 non-null    int64  \n",
            " 8   Ticket       891 non-null    object \n",
            " 9   Fare         891 non-null    float64\n",
            " 10  Cabin        204 non-null    object \n",
            " 11  Embarked     889 non-null    object \n",
            "dtypes: float64(2), int64(5), object(5)\n",
            "memory usage: 83.7+ KB\n"
          ],
          "name": "stdout"
        }
      ]
    },
    {
      "cell_type": "code",
      "metadata": {
        "colab": {
          "base_uri": "https://localhost:8080/",
          "height": 726
        },
        "id": "XZgKKWwyTL_J",
        "outputId": "be4cf035-cfd4-4420-b258-94bfa9584533"
      },
      "source": [
        "data[['Survived','Pclass','Age','SibSp','Parch','Fare']].hist(figsize=(22, 10), layout=(3,2), bins=20)"
      ],
      "execution_count": 164,
      "outputs": [
        {
          "output_type": "execute_result",
          "data": {
            "text/plain": [
              "array([[<matplotlib.axes._subplots.AxesSubplot object at 0x7f6a9d6072d0>,\n",
              "        <matplotlib.axes._subplots.AxesSubplot object at 0x7f6a8318c4d0>],\n",
              "       [<matplotlib.axes._subplots.AxesSubplot object at 0x7f6a8312a990>,\n",
              "        <matplotlib.axes._subplots.AxesSubplot object at 0x7f6a830dff10>],\n",
              "       [<matplotlib.axes._subplots.AxesSubplot object at 0x7f6a830a24d0>,\n",
              "        <matplotlib.axes._subplots.AxesSubplot object at 0x7f6a83057a50>]],\n",
              "      dtype=object)"
            ]
          },
          "metadata": {
            "tags": []
          },
          "execution_count": 164
        },
        {
          "output_type": "display_data",
          "data": {
            "image/png": "[encoded data removed]",
            "text/plain": [
              "<Figure size 1584x720 with 6 Axes>"
            ]
          },
          "metadata": {
            "tags": [],
            "needs_background": "light"
          }
        }
      ]
    },
    {
      "cell_type": "code",
      "metadata": {
        "colab": {
          "base_uri": "https://localhost:8080/",
          "height": 579
        },
        "id": "aQGVyE6fTUeO",
        "outputId": "a4a294b9-8f46-4a49-f073-bb8c96de9eed"
      },
      "source": [
        "plt.subplots(figsize=(10,10))\n",
        "sns.heatmap(data.corr(), square=True)\n",
        "plt.show()"
      ],
      "execution_count": 165,
      "outputs": [
        {
          "output_type": "display_data",
          "data": {
            "image/png": "[encoded data removed]",
            "text/plain": [
              "<Figure size 720x720 with 2 Axes>"
            ]
          },
          "metadata": {
            "tags": [],
            "needs_background": "light"
          }
        }
      ]
    },
    {
      "cell_type": "markdown",
      "metadata": {
        "id": "Kwvzq-tQO1SI"
      },
      "source": [
        "## Шаблон исследования"
      ]
    },
    {
      "cell_type": "markdown",
      "metadata": {
        "id": "f-fraQKmO1SJ"
      },
      "source": [
        "### Гипотеза 1\n",
        "\n",
        "__Формулировка__: Выживаемость зависит от пола и класса пассажира"
      ]
    },
    {
      "cell_type": "markdown",
      "metadata": {
        "id": "Ilw0SGwMZ-Jc"
      },
      "source": [
        "Проверим процентное соотношение выживших мужчин и женщин для каждого из классов"
      ]
    },
    {
      "cell_type": "code",
      "metadata": {
        "colab": {
          "base_uri": "https://localhost:8080/"
        },
        "id": "R1gx8QEgaWTq",
        "outputId": "fac540b7-8626-48cd-de12-af5b89083938"
      },
      "source": [
        "series = 100 *data.groupby(['Pclass','Sex'])['Survived'].sum() / data.groupby(['Pclass','Sex'])['PassengerId'].nunique()\n",
        "series"
      ],
      "execution_count": 166,
      "outputs": [
        {
          "output_type": "execute_result",
          "data": {
            "text/plain": [
              "Pclass  Sex   \n",
              "1       female    96.808511\n",
              "        male      36.885246\n",
              "2       female    92.105263\n",
              "        male      15.740741\n",
              "3       female    50.000000\n",
              "        male      13.544669\n",
              "dtype: float64"
            ]
          },
          "metadata": {
            "tags": []
          },
          "execution_count": 166
        }
      ]
    },
    {
      "cell_type": "code",
      "metadata": {
        "colab": {
          "base_uri": "https://localhost:8080/",
          "height": 309
        },
        "id": "j9OuPdflO1SK",
        "outputId": "31200118-79c6-4246-a5d3-44f91aabd6d4"
      },
      "source": [
        "(100 *data.groupby(['Pclass','Sex'])['Survived'].sum() / data.groupby(['Pclass','Sex'])['PassengerId'].nunique()).unstack('Sex').plot.bar(cmap=cmap,title='Процентное соотношение выживших мужчин и женщин в зависимости от класса билета')"
      ],
      "execution_count": 167,
      "outputs": [
        {
          "output_type": "execute_result",
          "data": {
            "text/plain": [
              "<matplotlib.axes._subplots.AxesSubplot at 0x7f6a82cdad50>"
            ]
          },
          "metadata": {
            "tags": []
          },
          "execution_count": 167
        },
        {
          "output_type": "display_data",
          "data": {
            "image/png": "[encoded data removed]",
            "text/plain": [
              "<Figure size 432x288 with 1 Axes>"
            ]
          },
          "metadata": {
            "tags": [],
            "needs_background": "light"
          }
        }
      ]
    },
    {
      "cell_type": "markdown",
      "metadata": {
        "id": "1o3KTeKwO1SL"
      },
      "source": [
        "__Вывод__: чем выше класс, тем больше шансов выжить. При этом в процентном соотношении для каждого из классов женщин выжило больше,чем мужчин. Из шести подклассов больше всего выживших женщин из первого и второго классов."
      ]
    },
    {
      "cell_type": "markdown",
      "metadata": {
        "id": "ux6zPVHkO1SL"
      },
      "source": [
        "  "
      ]
    },
    {
      "cell_type": "markdown",
      "metadata": {
        "id": "SLNC61aNO1SM"
      },
      "source": [
        "###  Гипотеза 2\n",
        "\n",
        "__Формулировка__: Цена купленного билета зависит от возраста пассажира"
      ]
    },
    {
      "cell_type": "code",
      "metadata": {
        "colab": {
          "base_uri": "https://localhost:8080/"
        },
        "id": "pW80KaPlhDEA",
        "outputId": "3fc34084-4ecf-4efe-cfe8-0d98a045a0fe"
      },
      "source": [
        "print(\"Максимальная цена билета: \", data['Fare'].max())\n",
        "print(\"Возраст самого старого пассажира: \" ,data['Age'].max())"
      ],
      "execution_count": 168,
      "outputs": [
        {
          "output_type": "stream",
          "text": [
            "Максимальная цена билета:  512.3292\n",
            "Возраст самого старого пассажира:  80.0\n"
          ],
          "name": "stdout"
        }
      ]
    },
    {
      "cell_type": "markdown",
      "metadata": {
        "id": "VN7D56U8nJaP"
      },
      "source": [
        "Создадим категориальные переменные для возраста и цены билета"
      ]
    },
    {
      "cell_type": "code",
      "metadata": {
        "id": "2HX6UZKhgOh_"
      },
      "source": [
        "labels = [\"cheap\",\"medium\",\"expensive\"]\n",
        "data['Fare_type'] = pd.cut(data.Fare, [0,50,150,513],labels=labels)\n",
        "labels = [\"infant\",\"young\",\"adult\",\"older\"]\n",
        "data['Age_type'] = pd.cut(data.Age, [0,12,18,40,81],labels=labels)"
      ],
      "execution_count": 169,
      "outputs": []
    },
    {
      "cell_type": "code",
      "metadata": {
        "colab": {
          "base_uri": "https://localhost:8080/",
          "height": 282
        },
        "id": "Xhx6hjVblbI4",
        "outputId": "e22f1ea3-55cb-4dab-9444-b57c6fb0659d"
      },
      "source": [
        "data['Age_type'].hist()"
      ],
      "execution_count": 170,
      "outputs": [
        {
          "output_type": "execute_result",
          "data": {
            "text/plain": [
              "<matplotlib.axes._subplots.AxesSubplot at 0x7f6a82c5ba50>"
            ]
          },
          "metadata": {
            "tags": []
          },
          "execution_count": 170
        },
        {
          "output_type": "display_data",
          "data": {
            "image/png": "[encoded data removed]",
            "text/plain": [
              "<Figure size 432x288 with 1 Axes>"
            ]
          },
          "metadata": {
            "tags": [],
            "needs_background": "light"
          }
        }
      ]
    },
    {
      "cell_type": "code",
      "metadata": {
        "colab": {
          "base_uri": "https://localhost:8080/"
        },
        "id": "yZ0NMTF1f-HJ",
        "outputId": "614fe886-ad90-405a-9dda-862d7caa8648"
      },
      "source": [
        "series = data.groupby(['Age_type','Fare_type'])['PassengerId'].count()/data.groupby(['Age_type'])['PassengerId'].count()\n",
        "series"
      ],
      "execution_count": 171,
      "outputs": [
        {
          "output_type": "execute_result",
          "data": {
            "text/plain": [
              "Age_type  Fare_type\n",
              "infant    cheap        0.942029\n",
              "          medium       0.028986\n",
              "          expensive    0.028986\n",
              "young     cheap        0.828571\n",
              "          medium       0.128571\n",
              "          expensive    0.042857\n",
              "adult     cheap        0.804706\n",
              "          medium       0.143529\n",
              "          expensive    0.037647\n",
              "older     cheap        0.693333\n",
              "          medium       0.260000\n",
              "          expensive    0.040000\n",
              "Name: PassengerId, dtype: float64"
            ]
          },
          "metadata": {
            "tags": []
          },
          "execution_count": 171
        }
      ]
    },
    {
      "cell_type": "code",
      "metadata": {
        "colab": {
          "base_uri": "https://localhost:8080/",
          "height": 338
        },
        "id": "egcsE12xmBf-",
        "outputId": "0c27d12f-1fae-49cf-98d9-5bcf5252aec3"
      },
      "source": [
        "series.unstack(level=0).plot(kind='bar', stacked = True, cmap=cmap)"
      ],
      "execution_count": 172,
      "outputs": [
        {
          "output_type": "execute_result",
          "data": {
            "text/plain": [
              "<matplotlib.axes._subplots.AxesSubplot at 0x7f6a82be2fd0>"
            ]
          },
          "metadata": {
            "tags": []
          },
          "execution_count": 172
        },
        {
          "output_type": "display_data",
          "data": {
            "image/png": "[encoded data removed]",
            "text/plain": [
              "<Figure size 432x288 with 1 Axes>"
            ]
          },
          "metadata": {
            "tags": [],
            "needs_background": "light"
          }
        }
      ]
    },
    {
      "cell_type": "markdown",
      "metadata": {
        "id": "Il9h7tSoO1SN"
      },
      "source": [
        "__Вывод__: Цена билета не зависела от возраста покупателя, хотя доля билетов среднего сегмента для пожилых людей была выше, чем для других ценовых диапазонов. Возможно тут неточное разбиение на интервалы для цены, так как сложно определить какой билет был дорогим в 1912 году."
      ]
    },
    {
      "cell_type": "markdown",
      "metadata": {
        "id": "BZ52r8HpO1SO"
      },
      "source": [
        "### Гипотеза 3\n",
        " \n",
        "__Формулировка__:"
      ]
    },
    {
      "cell_type": "markdown",
      "metadata": {
        "id": "2npqdg_VO1SO"
      },
      "source": [
        "Возраст пассажиров, путешествоваших без семьи, влияет на выживаемость.  "
      ]
    },
    {
      "cell_type": "code",
      "metadata": {
        "id": "oKg2GMLIooN9"
      },
      "source": [
        "#добавим признак- размер семьи на корабле (1 = пассажир путешествует один)\n",
        "data['Family_Size'] = data['Parch'] + data['SibSp'] + 1"
      ],
      "execution_count": 173,
      "outputs": []
    },
    {
      "cell_type": "code",
      "metadata": {
        "colab": {
          "base_uri": "https://localhost:8080/",
          "height": 282
        },
        "id": "377a-eaao2Y6",
        "outputId": "ad9dab6f-dc4f-43c8-d7cf-399a0061f2ef"
      },
      "source": [
        "data['Family_Size'].hist()"
      ],
      "execution_count": 174,
      "outputs": [
        {
          "output_type": "execute_result",
          "data": {
            "text/plain": [
              "<matplotlib.axes._subplots.AxesSubplot at 0x7f6a82af66d0>"
            ]
          },
          "metadata": {
            "tags": []
          },
          "execution_count": 174
        },
        {
          "output_type": "display_data",
          "data": {
            "image/png": "[encoded data removed]",
            "text/plain": [
              "<Figure size 432x288 with 1 Axes>"
            ]
          },
          "metadata": {
            "tags": [],
            "needs_background": "light"
          }
        }
      ]
    },
    {
      "cell_type": "code",
      "metadata": {
        "colab": {
          "base_uri": "https://localhost:8080/"
        },
        "id": "U2h5flPqr6Kd",
        "outputId": "0555700f-e148-4d82-cddc-0c5c6663c019"
      },
      "source": [
        "data.loc[(data['Family_Size'] == 1)].groupby(['Age_type'])['PassengerId'].count()"
      ],
      "execution_count": 175,
      "outputs": [
        {
          "output_type": "execute_result",
          "data": {
            "text/plain": [
              "Age_type\n",
              "infant      2\n",
              "young      34\n",
              "adult     279\n",
              "older      89\n",
              "Name: PassengerId, dtype: int64"
            ]
          },
          "metadata": {
            "tags": []
          },
          "execution_count": 175
        }
      ]
    },
    {
      "cell_type": "code",
      "metadata": {
        "colab": {
          "base_uri": "https://localhost:8080/"
        },
        "id": "uqLbBj4LpJKq",
        "outputId": "f5631390-8c13-4e7b-80e6-24c9a7444008"
      },
      "source": [
        "series = data.loc[(data['Family_Size'] == 1)].groupby(['Age_type'])['Survived'].sum() /data.loc[(data['Family_Size'] == 1)].groupby(['Age_type'])['PassengerId'].count()\n",
        "series"
      ],
      "execution_count": 176,
      "outputs": [
        {
          "output_type": "execute_result",
          "data": {
            "text/plain": [
              "Age_type\n",
              "infant    0.500000\n",
              "young     0.352941\n",
              "adult     0.329749\n",
              "older     0.280899\n",
              "dtype: float64"
            ]
          },
          "metadata": {
            "tags": []
          },
          "execution_count": 176
        }
      ]
    },
    {
      "cell_type": "code",
      "metadata": {
        "colab": {
          "base_uri": "https://localhost:8080/",
          "height": 318
        },
        "id": "icQiO3m9qKmK",
        "outputId": "bcfb1ec9-2337-464a-9cc6-50d71a7faf14"
      },
      "source": [
        "series.plot(kind='bar')"
      ],
      "execution_count": 177,
      "outputs": [
        {
          "output_type": "execute_result",
          "data": {
            "text/plain": [
              "<matplotlib.axes._subplots.AxesSubplot at 0x7f6a82ae36d0>"
            ]
          },
          "metadata": {
            "tags": []
          },
          "execution_count": 177
        },
        {
          "output_type": "display_data",
          "data": {
            "image/png": "[encoded data removed]",
            "text/plain": [
              "<Figure size 432x288 with 1 Axes>"
            ]
          },
          "metadata": {
            "tags": [],
            "needs_background": "light"
          }
        }
      ]
    },
    {
      "cell_type": "code",
      "metadata": {
        "colab": {
          "base_uri": "https://localhost:8080/"
        },
        "id": "69qAY6A4s1JC",
        "outputId": "62f143a7-7388-4be2-f6eb-e261bbc9d477"
      },
      "source": [
        "print( \"Процент выживших для путешествующих без семьи: \",round(data.loc[(data['Family_Size'] == 1) & data['Survived'] ==1]['PassengerId'].count()/data.loc[(data['Family_Size'] == 1)]['PassengerId'].count(),3))"
      ],
      "execution_count": 178,
      "outputs": [
        {
          "output_type": "stream",
          "text": [
            "Процент выживших для путешествующих без семьи:  0.304\n"
          ],
          "name": "stdout"
        }
      ]
    },
    {
      "cell_type": "markdown",
      "metadata": {
        "id": "l72XOzk-O1SP"
      },
      "source": [
        "__Вывод__: Выживаемость для пожилых пассажиров, путешествующих одних, чуть ниже среднего значения. Для остальных возрастных групп выживаемость соответсвовала среднему значению."
      ]
    },
    {
      "cell_type": "markdown",
      "metadata": {
        "id": "aYhS2KQTO1SP"
      },
      "source": [
        "### Вывод исследования:\n",
        "Чем выше класс, тем больше шансов выжить.  \n",
        "Женщин выжило больше, чем мужчин.  \n",
        "Возраст одинкоих пассажиров практически не влияет на шансы выжить.  \n",
        "Цена билета не зависела от возраста пассажира.  \n",
        "  "
      ]
    },
    {
      "cell_type": "code",
      "metadata": {
        "id": "CZVRvNNru5eB"
      },
      "source": [
        ""
      ],
      "execution_count": 178,
      "outputs": []
    }
  ]
}